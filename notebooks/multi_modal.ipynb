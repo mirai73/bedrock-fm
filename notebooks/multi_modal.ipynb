{
 "cells": [
  {
   "cell_type": "code",
   "execution_count": 1,
   "metadata": {},
   "outputs": [],
   "source": [
    "from bedrock_fm import Claude3, Model\n",
    "from bedrock_fm import Human\n",
    "import boto3\n",
    "from PIL import Image\n",
    "\n",
    "sess = boto3.Session(region_name='us-east-1')"
   ]
  },
  {
   "cell_type": "code",
   "execution_count": 4,
   "metadata": {},
   "outputs": [],
   "source": [
    "m = Model.ANTHROPIC_CLAUDE_3_SONNET_20240229_V1_0"
   ]
  },
  {
   "cell_type": "code",
   "execution_count": 5,
   "metadata": {},
   "outputs": [],
   "source": [
    "fm = Claude3.from_id(m, session=sess)"
   ]
  },
  {
   "cell_type": "code",
   "execution_count": 7,
   "metadata": {},
   "outputs": [
    {
     "name": "stdout",
     "output_type": "stream",
     "text": [
      "['The image shows a vase or pitcher filled with fresh flowers, likely tulips or a similar variety, placed on a round table near a window with sheer curtains. The flowers appear to be white and peach or light orange in color. The sunlight from the window casts soft shadows and creates a warm, peaceful ambiance in the room. The image has a cozy, domestic feel with the simple arrangement of the flowers and the diffused lighting filtering through the curtains.']\n"
     ]
    }
   ],
   "source": [
    "r = fm.chat([Human(content=\"what is in this picture\", images=[Image.open(\"vase.png\")])], details=True)\n",
    "print(r.output[0])"
   ]
  },
  {
   "cell_type": "code",
   "execution_count": null,
   "metadata": {},
   "outputs": [],
   "source": [
    "r.latency"
   ]
  },
  {
   "cell_type": "code",
   "execution_count": null,
   "metadata": {},
   "outputs": [],
   "source": [
    "r.prompt"
   ]
  },
  {
   "cell_type": "code",
   "execution_count": null,
   "metadata": {},
   "outputs": [],
   "source": [
    "import json\n",
    "b = json.loads(r.body)\n",
    "b.keys()"
   ]
  },
  {
   "cell_type": "markdown",
   "metadata": {},
   "source": [
    "Get the usage:"
   ]
  },
  {
   "cell_type": "code",
   "execution_count": null,
   "metadata": {},
   "outputs": [],
   "source": [
    "r.response[\"usage\"]"
   ]
  }
 ],
 "metadata": {
  "kernelspec": {
   "display_name": ".venv",
   "language": "python",
   "name": "python3"
  },
  "language_info": {
   "codemirror_mode": {
    "name": "ipython",
    "version": 3
   },
   "file_extension": ".py",
   "mimetype": "text/x-python",
   "name": "python",
   "nbconvert_exporter": "python",
   "pygments_lexer": "ipython3",
   "version": "3.10.6"
  }
 },
 "nbformat": 4,
 "nbformat_minor": 2
}
