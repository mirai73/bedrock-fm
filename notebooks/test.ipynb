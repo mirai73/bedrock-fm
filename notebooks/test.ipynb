{
 "cells": [
  {
   "cell_type": "markdown",
   "metadata": {},
   "source": [
    "# Init"
   ]
  },
  {
   "cell_type": "code",
   "execution_count": 1,
   "metadata": {},
   "outputs": [],
   "source": [
    "import sys\n",
    "sys.path.append('..')\n",
    "from bedrock_fm import Claude, Command, Llama2Chat, from_model_id, Model, Claude3, Mistral, Mixtral\n",
    "from bedrock_fm.bedrock import Assistant, Human, System\n",
    "import boto3\n",
    "import logging\n",
    "\n",
    "#logging.basicConfig(level=logging.INFO)\n",
    "\n",
    "class util:\n",
    "  reset = \"\\u001b[0m\"\n",
    "  bold = \"\\u001b[1m\"\n",
    "  underline = \"\\u001b[4m\"\n",
    "  reverse = \"\\u001b[7m\"\n",
    "\n",
    "def print_conversation(conversation):\n",
    "    for m in conversation:\n",
    "        print(f\"{util.bold}{m.role}{util.reset}: {m.content}\")"
   ]
  },
  {
   "cell_type": "code",
   "execution_count": 2,
   "metadata": {},
   "outputs": [
    {
     "name": "stdout",
     "output_type": "stream",
     "text": [
      "1.34.1\n"
     ]
    }
   ],
   "source": [
    "# session = boto3.Session(profile_name=\"aws-emea-pace+bedrock-Bedrock\", region_name=\"us-east-1\")\n",
    "print(boto3.__version__)\n",
    "\n",
    "session = boto3.Session(region_name=\"us-west-2\")\n"
   ]
  },
  {
   "cell_type": "code",
   "execution_count": 3,
   "metadata": {},
   "outputs": [],
   "source": [
    "br = session.client(\"bedrock\")"
   ]
  },
  {
   "cell_type": "code",
   "execution_count": 4,
   "metadata": {},
   "outputs": [
    {
     "data": {
      "text/plain": [
       "[{'modelArn': 'arn:aws:bedrock:us-west-2::foundation-model/amazon.titan-tg1-large',\n",
       "  'modelId': 'amazon.titan-tg1-large',\n",
       "  'modelName': 'Titan Text Large',\n",
       "  'providerName': 'Amazon',\n",
       "  'inputModalities': ['TEXT'],\n",
       "  'outputModalities': ['TEXT'],\n",
       "  'responseStreamingSupported': True,\n",
       "  'customizationsSupported': [],\n",
       "  'inferenceTypesSupported': ['ON_DEMAND'],\n",
       "  'modelLifecycle': {'status': 'ACTIVE'}},\n",
       " {'modelArn': 'arn:aws:bedrock:us-west-2::foundation-model/amazon.titan-embed-g1-text-02',\n",
       "  'modelId': 'amazon.titan-embed-g1-text-02',\n",
       "  'modelName': 'Titan Text Embeddings v2',\n",
       "  'providerName': 'Amazon',\n",
       "  'inputModalities': ['TEXT'],\n",
       "  'outputModalities': ['EMBEDDING'],\n",
       "  'customizationsSupported': [],\n",
       "  'inferenceTypesSupported': ['ON_DEMAND'],\n",
       "  'modelLifecycle': {'status': 'ACTIVE'}},\n",
       " {'modelArn': 'arn:aws:bedrock:us-west-2::foundation-model/amazon.titan-text-lite-v1',\n",
       "  'modelId': 'amazon.titan-text-lite-v1',\n",
       "  'modelName': 'Titan Text G1 - Lite',\n",
       "  'providerName': 'Amazon',\n",
       "  'inputModalities': ['TEXT'],\n",
       "  'outputModalities': ['TEXT'],\n",
       "  'responseStreamingSupported': True,\n",
       "  'customizationsSupported': [],\n",
       "  'inferenceTypesSupported': ['ON_DEMAND'],\n",
       "  'modelLifecycle': {'status': 'ACTIVE'}},\n",
       " {'modelArn': 'arn:aws:bedrock:us-west-2::foundation-model/amazon.titan-text-express-v1',\n",
       "  'modelId': 'amazon.titan-text-express-v1',\n",
       "  'modelName': 'Titan Text G1 - Express',\n",
       "  'providerName': 'Amazon',\n",
       "  'inputModalities': ['TEXT'],\n",
       "  'outputModalities': ['TEXT'],\n",
       "  'responseStreamingSupported': True,\n",
       "  'customizationsSupported': [],\n",
       "  'inferenceTypesSupported': ['ON_DEMAND'],\n",
       "  'modelLifecycle': {'status': 'ACTIVE'}},\n",
       " {'modelArn': 'arn:aws:bedrock:us-west-2::foundation-model/amazon.titan-embed-text-v1',\n",
       "  'modelId': 'amazon.titan-embed-text-v1',\n",
       "  'modelName': 'Titan Embeddings G1 - Text',\n",
       "  'providerName': 'Amazon',\n",
       "  'inputModalities': ['TEXT'],\n",
       "  'outputModalities': ['EMBEDDING'],\n",
       "  'responseStreamingSupported': False,\n",
       "  'customizationsSupported': [],\n",
       "  'inferenceTypesSupported': ['ON_DEMAND'],\n",
       "  'modelLifecycle': {'status': 'ACTIVE'}},\n",
       " {'modelArn': 'arn:aws:bedrock:us-west-2::foundation-model/amazon.titan-embed-image-v1:0',\n",
       "  'modelId': 'amazon.titan-embed-image-v1:0',\n",
       "  'modelName': 'Titan Multimodal Embeddings G1',\n",
       "  'providerName': 'Amazon',\n",
       "  'inputModalities': ['TEXT', 'IMAGE'],\n",
       "  'outputModalities': ['EMBEDDING'],\n",
       "  'customizationsSupported': ['FINE_TUNING'],\n",
       "  'inferenceTypesSupported': ['ON_DEMAND', 'PROVISIONED'],\n",
       "  'modelLifecycle': {'status': 'ACTIVE'}},\n",
       " {'modelArn': 'arn:aws:bedrock:us-west-2::foundation-model/amazon.titan-embed-image-v1',\n",
       "  'modelId': 'amazon.titan-embed-image-v1',\n",
       "  'modelName': 'Titan Multimodal Embeddings G1',\n",
       "  'providerName': 'Amazon',\n",
       "  'inputModalities': ['TEXT', 'IMAGE'],\n",
       "  'outputModalities': ['EMBEDDING'],\n",
       "  'customizationsSupported': [],\n",
       "  'inferenceTypesSupported': ['ON_DEMAND'],\n",
       "  'modelLifecycle': {'status': 'ACTIVE'}},\n",
       " {'modelArn': 'arn:aws:bedrock:us-west-2::foundation-model/amazon.titan-image-generator-v1',\n",
       "  'modelId': 'amazon.titan-image-generator-v1',\n",
       "  'modelName': 'Titan Image Generator G1',\n",
       "  'providerName': 'Amazon',\n",
       "  'inputModalities': ['TEXT', 'IMAGE'],\n",
       "  'outputModalities': ['IMAGE'],\n",
       "  'customizationsSupported': [],\n",
       "  'inferenceTypesSupported': ['ON_DEMAND'],\n",
       "  'modelLifecycle': {'status': 'ACTIVE'}},\n",
       " {'modelArn': 'arn:aws:bedrock:us-west-2::foundation-model/stability.stable-diffusion-xl-v1',\n",
       "  'modelId': 'stability.stable-diffusion-xl-v1',\n",
       "  'modelName': 'SDXL 1.0',\n",
       "  'providerName': 'Stability AI',\n",
       "  'inputModalities': ['TEXT', 'IMAGE'],\n",
       "  'outputModalities': ['IMAGE'],\n",
       "  'customizationsSupported': [],\n",
       "  'inferenceTypesSupported': ['ON_DEMAND'],\n",
       "  'modelLifecycle': {'status': 'ACTIVE'}},\n",
       " {'modelArn': 'arn:aws:bedrock:us-west-2::foundation-model/ai21.j2-grande-instruct',\n",
       "  'modelId': 'ai21.j2-grande-instruct',\n",
       "  'modelName': 'J2 Grande Instruct',\n",
       "  'providerName': 'AI21 Labs',\n",
       "  'inputModalities': ['TEXT'],\n",
       "  'outputModalities': ['TEXT'],\n",
       "  'responseStreamingSupported': False,\n",
       "  'customizationsSupported': [],\n",
       "  'inferenceTypesSupported': ['ON_DEMAND'],\n",
       "  'modelLifecycle': {'status': 'ACTIVE'}},\n",
       " {'modelArn': 'arn:aws:bedrock:us-west-2::foundation-model/ai21.j2-jumbo-instruct',\n",
       "  'modelId': 'ai21.j2-jumbo-instruct',\n",
       "  'modelName': 'J2 Jumbo Instruct',\n",
       "  'providerName': 'AI21 Labs',\n",
       "  'inputModalities': ['TEXT'],\n",
       "  'outputModalities': ['TEXT'],\n",
       "  'responseStreamingSupported': False,\n",
       "  'customizationsSupported': [],\n",
       "  'inferenceTypesSupported': ['ON_DEMAND'],\n",
       "  'modelLifecycle': {'status': 'ACTIVE'}},\n",
       " {'modelArn': 'arn:aws:bedrock:us-west-2::foundation-model/ai21.j2-mid',\n",
       "  'modelId': 'ai21.j2-mid',\n",
       "  'modelName': 'Jurassic-2 Mid',\n",
       "  'providerName': 'AI21 Labs',\n",
       "  'inputModalities': ['TEXT'],\n",
       "  'outputModalities': ['TEXT'],\n",
       "  'responseStreamingSupported': False,\n",
       "  'customizationsSupported': [],\n",
       "  'inferenceTypesSupported': ['ON_DEMAND'],\n",
       "  'modelLifecycle': {'status': 'ACTIVE'}},\n",
       " {'modelArn': 'arn:aws:bedrock:us-west-2::foundation-model/ai21.j2-mid-v1',\n",
       "  'modelId': 'ai21.j2-mid-v1',\n",
       "  'modelName': 'Jurassic-2 Mid',\n",
       "  'providerName': 'AI21 Labs',\n",
       "  'inputModalities': ['TEXT'],\n",
       "  'outputModalities': ['TEXT'],\n",
       "  'responseStreamingSupported': False,\n",
       "  'customizationsSupported': [],\n",
       "  'inferenceTypesSupported': ['ON_DEMAND'],\n",
       "  'modelLifecycle': {'status': 'ACTIVE'}},\n",
       " {'modelArn': 'arn:aws:bedrock:us-west-2::foundation-model/ai21.j2-ultra',\n",
       "  'modelId': 'ai21.j2-ultra',\n",
       "  'modelName': 'Jurassic-2 Ultra',\n",
       "  'providerName': 'AI21 Labs',\n",
       "  'inputModalities': ['TEXT'],\n",
       "  'outputModalities': ['TEXT'],\n",
       "  'responseStreamingSupported': False,\n",
       "  'customizationsSupported': [],\n",
       "  'inferenceTypesSupported': ['ON_DEMAND'],\n",
       "  'modelLifecycle': {'status': 'ACTIVE'}},\n",
       " {'modelArn': 'arn:aws:bedrock:us-west-2::foundation-model/ai21.j2-ultra-v1',\n",
       "  'modelId': 'ai21.j2-ultra-v1',\n",
       "  'modelName': 'Jurassic-2 Ultra',\n",
       "  'providerName': 'AI21 Labs',\n",
       "  'inputModalities': ['TEXT'],\n",
       "  'outputModalities': ['TEXT'],\n",
       "  'responseStreamingSupported': False,\n",
       "  'customizationsSupported': [],\n",
       "  'inferenceTypesSupported': ['ON_DEMAND'],\n",
       "  'modelLifecycle': {'status': 'ACTIVE'}},\n",
       " {'modelArn': 'arn:aws:bedrock:us-west-2::foundation-model/anthropic.claude-instant-v1',\n",
       "  'modelId': 'anthropic.claude-instant-v1',\n",
       "  'modelName': 'Claude Instant',\n",
       "  'providerName': 'Anthropic',\n",
       "  'inputModalities': ['TEXT'],\n",
       "  'outputModalities': ['TEXT'],\n",
       "  'responseStreamingSupported': True,\n",
       "  'customizationsSupported': [],\n",
       "  'inferenceTypesSupported': ['ON_DEMAND'],\n",
       "  'modelLifecycle': {'status': 'ACTIVE'}},\n",
       " {'modelArn': 'arn:aws:bedrock:us-west-2::foundation-model/anthropic.claude-v2:1',\n",
       "  'modelId': 'anthropic.claude-v2:1',\n",
       "  'modelName': 'Claude',\n",
       "  'providerName': 'Anthropic',\n",
       "  'inputModalities': ['TEXT'],\n",
       "  'outputModalities': ['TEXT'],\n",
       "  'responseStreamingSupported': True,\n",
       "  'customizationsSupported': [],\n",
       "  'inferenceTypesSupported': ['ON_DEMAND'],\n",
       "  'modelLifecycle': {'status': 'ACTIVE'}},\n",
       " {'modelArn': 'arn:aws:bedrock:us-west-2::foundation-model/anthropic.claude-v2',\n",
       "  'modelId': 'anthropic.claude-v2',\n",
       "  'modelName': 'Claude',\n",
       "  'providerName': 'Anthropic',\n",
       "  'inputModalities': ['TEXT'],\n",
       "  'outputModalities': ['TEXT'],\n",
       "  'responseStreamingSupported': True,\n",
       "  'customizationsSupported': [],\n",
       "  'inferenceTypesSupported': ['ON_DEMAND'],\n",
       "  'modelLifecycle': {'status': 'ACTIVE'}},\n",
       " {'modelArn': 'arn:aws:bedrock:us-west-2::foundation-model/anthropic.claude-3-sonnet-20240229-v1:0',\n",
       "  'modelId': 'anthropic.claude-3-sonnet-20240229-v1:0',\n",
       "  'modelName': 'Claude 3 Sonnet',\n",
       "  'providerName': 'Anthropic',\n",
       "  'inputModalities': ['TEXT', 'IMAGE'],\n",
       "  'outputModalities': ['TEXT'],\n",
       "  'responseStreamingSupported': True,\n",
       "  'customizationsSupported': [],\n",
       "  'inferenceTypesSupported': ['ON_DEMAND'],\n",
       "  'modelLifecycle': {'status': 'ACTIVE'}},\n",
       " {'modelArn': 'arn:aws:bedrock:us-west-2::foundation-model/cohere.command-text-v14',\n",
       "  'modelId': 'cohere.command-text-v14',\n",
       "  'modelName': 'Command',\n",
       "  'providerName': 'Cohere',\n",
       "  'inputModalities': ['TEXT'],\n",
       "  'outputModalities': ['TEXT'],\n",
       "  'responseStreamingSupported': True,\n",
       "  'customizationsSupported': [],\n",
       "  'inferenceTypesSupported': ['ON_DEMAND'],\n",
       "  'modelLifecycle': {'status': 'ACTIVE'}},\n",
       " {'modelArn': 'arn:aws:bedrock:us-west-2::foundation-model/cohere.command-light-text-v14',\n",
       "  'modelId': 'cohere.command-light-text-v14',\n",
       "  'modelName': 'Command Light',\n",
       "  'providerName': 'Cohere',\n",
       "  'inputModalities': ['TEXT'],\n",
       "  'outputModalities': ['TEXT'],\n",
       "  'responseStreamingSupported': True,\n",
       "  'customizationsSupported': [],\n",
       "  'inferenceTypesSupported': ['ON_DEMAND'],\n",
       "  'modelLifecycle': {'status': 'ACTIVE'}},\n",
       " {'modelArn': 'arn:aws:bedrock:us-west-2::foundation-model/cohere.embed-english-v3',\n",
       "  'modelId': 'cohere.embed-english-v3',\n",
       "  'modelName': 'Embed English',\n",
       "  'providerName': 'Cohere',\n",
       "  'inputModalities': ['TEXT'],\n",
       "  'outputModalities': ['EMBEDDING'],\n",
       "  'responseStreamingSupported': False,\n",
       "  'customizationsSupported': [],\n",
       "  'inferenceTypesSupported': ['ON_DEMAND'],\n",
       "  'modelLifecycle': {'status': 'ACTIVE'}},\n",
       " {'modelArn': 'arn:aws:bedrock:us-west-2::foundation-model/cohere.embed-multilingual-v3',\n",
       "  'modelId': 'cohere.embed-multilingual-v3',\n",
       "  'modelName': 'Embed Multilingual',\n",
       "  'providerName': 'Cohere',\n",
       "  'inputModalities': ['TEXT'],\n",
       "  'outputModalities': ['EMBEDDING'],\n",
       "  'responseStreamingSupported': False,\n",
       "  'customizationsSupported': [],\n",
       "  'inferenceTypesSupported': ['ON_DEMAND'],\n",
       "  'modelLifecycle': {'status': 'ACTIVE'}},\n",
       " {'modelArn': 'arn:aws:bedrock:us-west-2::foundation-model/meta.llama2-13b-chat-v1',\n",
       "  'modelId': 'meta.llama2-13b-chat-v1',\n",
       "  'modelName': 'Llama 2 Chat 13B',\n",
       "  'providerName': 'Meta',\n",
       "  'inputModalities': ['TEXT'],\n",
       "  'outputModalities': ['TEXT'],\n",
       "  'responseStreamingSupported': True,\n",
       "  'customizationsSupported': [],\n",
       "  'inferenceTypesSupported': ['ON_DEMAND'],\n",
       "  'modelLifecycle': {'status': 'ACTIVE'}},\n",
       " {'modelArn': 'arn:aws:bedrock:us-west-2::foundation-model/meta.llama2-70b-chat-v1',\n",
       "  'modelId': 'meta.llama2-70b-chat-v1',\n",
       "  'modelName': 'Llama 2 Chat 70B',\n",
       "  'providerName': 'Meta',\n",
       "  'inputModalities': ['TEXT'],\n",
       "  'outputModalities': ['TEXT'],\n",
       "  'responseStreamingSupported': True,\n",
       "  'customizationsSupported': [],\n",
       "  'inferenceTypesSupported': ['ON_DEMAND'],\n",
       "  'modelLifecycle': {'status': 'ACTIVE'}},\n",
       " {'modelArn': 'arn:aws:bedrock:us-west-2::foundation-model/mistral.mistral-7b-instruct-v0:2',\n",
       "  'modelId': 'mistral.mistral-7b-instruct-v0:2',\n",
       "  'modelName': 'Mistral 7B Instruct',\n",
       "  'providerName': 'Mistral AI',\n",
       "  'inputModalities': ['TEXT'],\n",
       "  'outputModalities': ['TEXT'],\n",
       "  'responseStreamingSupported': True,\n",
       "  'customizationsSupported': [],\n",
       "  'inferenceTypesSupported': ['ON_DEMAND'],\n",
       "  'modelLifecycle': {'status': 'ACTIVE'}},\n",
       " {'modelArn': 'arn:aws:bedrock:us-west-2::foundation-model/mistral.mixtral-8x7b-instruct-v0:1',\n",
       "  'modelId': 'mistral.mixtral-8x7b-instruct-v0:1',\n",
       "  'modelName': 'Mixtral 8x7B Instruct',\n",
       "  'providerName': 'Mistral AI',\n",
       "  'inputModalities': ['TEXT'],\n",
       "  'outputModalities': ['TEXT'],\n",
       "  'responseStreamingSupported': True,\n",
       "  'customizationsSupported': [],\n",
       "  'inferenceTypesSupported': ['ON_DEMAND'],\n",
       "  'modelLifecycle': {'status': 'ACTIVE'}}]"
      ]
     },
     "execution_count": 4,
     "metadata": {},
     "output_type": "execute_result"
    }
   ],
   "source": [
    "response = br.list_foundation_models()\n",
    "[m for m in response.get(\"modelSummaries\", []) if 'ON_DEMAND' in m.get('inferenceTypesSupported') and m.get('modelLifecycle', {}).get('status') == 'ACTIVE']"
   ]
  },
  {
   "cell_type": "code",
   "execution_count": null,
   "metadata": {},
   "outputs": [],
   "source": [
    "br.list_foundation_models()"
   ]
  },
  {
   "cell_type": "markdown",
   "metadata": {},
   "source": [
    "# Models"
   ]
  },
  {
   "cell_type": "markdown",
   "metadata": {},
   "source": [
    "## Claude"
   ]
  },
  {
   "cell_type": "code",
   "execution_count": 8,
   "metadata": {},
   "outputs": [],
   "source": [
    "c3 = Claude3.from_id(model_id=\"anthropic.claude-3-sonnet-20240229-v1:0\", session=session)\n",
    "c2 = Claude.from_id(model_id=\"anthropic.claude-v2:1\", session=session)"
   ]
  },
  {
   "cell_type": "code",
   "execution_count": 9,
   "metadata": {},
   "outputs": [
    {
     "data": {
      "text/plain": [
       "[\"Ecco alcuni fatti interessanti sulla Luna:\\n\\n1. La Luna è l'unico satellite naturale della Terra.\\n\\n2. Il diametro della Luna è di circa 3.474 km, circa un quarto di quello della Terra.\\n\\n3. La Luna orbita intorno alla Terra a una distanza media di 384.400 km.\\n\\n4. Un giorno lunare, ovvero il tempo impiegato dalla Luna per ruotare su se stessa, dura circa 27 giorni terrestri.\\n\\n5. La superficie della Luna è ricoperta da crateri causati da impatti di meteoriti e altri corpi celesti.\\n\\n6. Non c'è acqua liquida sulla superficie della Luna, ma sono state rilevate tracce di ghiaccio nelle regioni polari.\\n\\n7. La gravità sulla Luna è circa un sesto di quella terrestre, il che significa che un oggetto di 100 kg sulla Terra peserebbe solo 16,5 kg sulla Luna.\\n\\n8. La Luna non ha un'atmosfera apprezzabile, il che significa che non c'è aria respirabile sulla sua superficie.\\n\\n9. La Luna è l'unico corpo celeste oltre la Terra su cui gli esseri umani hanno camminato, durante le missioni Apollo tra il 1969 e il 1972.\\n\\n10. Le fasi lunari sono causate dal moto orbitale della Luna intorno alla Terra e dall'illuminazione solare della sua superficie visibile dalla Terra.\"]"
      ]
     },
     "execution_count": 9,
     "metadata": {},
     "output_type": "execute_result"
    }
   ],
   "source": [
    "c3.generate(\"Dammi alcuni fatti sulla luna?\")"
   ]
  },
  {
   "cell_type": "code",
   "execution_count": 10,
   "metadata": {},
   "outputs": [
    {
     "name": "stdout",
     "output_type": "stream",
     "text": [
      "Claude 3\n",
      "--------\n",
      "Eccoti alcuni fatti interessanti sulla Luna:\n",
      "\n",
      "- La Luna è l'unico satellite naturale della Terra. Il suo diametro è di circa 3.476 km.\n",
      "\n",
      "- La Luna orbita intorno alla Terra ad una distanza media di circa 384.400 km. Impiega circa 27 giorni per completare un'orbita intorno al nostro pianeta.\n",
      "\n",
      "- La gravità sulla superficie lunare è solo un sesto di quella terrestre. È per questo che gli astronauti potevano compiere balzi molto più alti sulla Luna.\n",
      "\n",
      "- La Luna non ha un'atmosfera apprezzabile, quindi non c'è erosione eolica o meteorica sulla sua superficie.\n",
      "\n",
      "- La faccia visibile della Luna è sempre la stessa, perché impiega lo stesso tempo a ruotare su se stessa e ad orbitare intorno alla Terra.\n",
      "\n",
      "- La temperatura sulla superficie lunare varia enormemente, da circa 127°C durante il giorno a -173°C durante la notte.\n",
      "\n",
      "- Finora solo 12 persone hanno camminato sulla superficie lunare, tutti astronauti del programma spaziale Apollo della NASA tra il 1969 e il 1972.\n",
      "\n",
      "Fammi sapere se hai bisogno di altri dettagli sulla Luna!\n",
      "\n",
      "\n",
      "Claude 2\n",
      "--------\n",
      " Ecco alcuni fatti interessanti sulla Luna:\n",
      "\n",
      "- La Luna è l'unico satellite naturale della Terra. È il quinto satellite più grande del sistema solare.\n",
      "\n",
      "- La Luna impiega 27,3 giorni per completare una rivoluzione intorno alla Terra. Questo è anche il periodo con cui si alternano le fasi lunari.\n",
      "\n",
      "- La Luna non ha una propria atmosfera. Ciò significa che non c'è vento o tempo atmosferico sulla sua superficie.\n",
      "\n",
      "- La gravità sulla Luna è pari a circa un sesto di quella terrestre. Ciò significa che un oggetto o una persona sulla Luna peserebbe circa un sesto del suo peso sulla Terra.\n",
      "\n",
      "- La parte visibile della Luna è coperta da aree più scure chiamate mari lunari. Queste distese scure sono in realtà antichi flussi di lava basaltica.\n",
      "\n",
      "- La temperatura sulla superficie della Luna può raggiungere i 127°C durante il giorno e scendere a -173°C di notte. Questa enorme escursione termica è dovuta alla mancanza di un'atmosfera.\n",
      "\n",
      "- La Luna viene gradualmente allontanandosi dalla Terra ad una velocità di circa 3,8 cm all'anno.\n",
      "\n",
      "Questi sono solo alcuni fatti interessanti sulla nostra Luna. Fammi sapere se hai altre domande!\n"
     ]
    }
   ],
   "source": [
    "p = \"\"\"The following is a friendly conversation between a human and an AI. If the AI does not know the answer to a question, it truthfully says it does not know.\n",
    "\n",
    "Question: dammi alcuni fatti sulla luna\"\"\"\n",
    "print(\"Claude 3\\n--------\")\n",
    "print(c3.generate(p)[0])\n",
    "print(\"\\n\\nClaude 2\\n--------\")\n",
    "print(c2.generate(p)[0])"
   ]
  },
  {
   "cell_type": "code",
   "execution_count": 20,
   "metadata": {},
   "outputs": [
    {
     "data": {
      "text/plain": [
       "['anthropic.claude-instant-v1:2:100k',\n",
       " 'anthropic.claude-instant-v1',\n",
       " 'anthropic.claude-v2:0:18k',\n",
       " 'anthropic.claude-v2:0:100k',\n",
       " 'anthropic.claude-v2:1:18k',\n",
       " 'anthropic.claude-v2:1:200k',\n",
       " 'anthropic.claude-v2:1',\n",
       " 'anthropic.claude-v2',\n",
       " 'anthropic.claude-3-sonnet-20240229-v1:0']"
      ]
     },
     "execution_count": 20,
     "metadata": {},
     "output_type": "execute_result"
    }
   ],
   "source": [
    "fm.list_model_ids()"
   ]
  },
  {
   "cell_type": "code",
   "execution_count": 13,
   "metadata": {},
   "outputs": [],
   "source": [
    "p = \"\"\"\n",
    "Human: You are a helpful AI assistant at the California Department of Motor Vehicles (DMV) clarifying follow-up questions into standalone queries retaining context.\n",
    "\n",
    "<chatHistory> \n",
    "\n",
    "Human: What are the requirements for a HAM endorsement?\n",
    "\n",
    "Assistant:  [4/5] I have high confidence in my response because the passages provide clear and definitive information on the requirements for a HAM endorsement.\n",
    "\n",
    "According to the reference passages:\n",
    "\n",
    "To qualify for a Hazardous Agricultural Materials (HAM) certificate, the following requirements must be met:\n",
    "\n",
    "- Must have a **valid California driver license (DL) with a minimum of a Class C DL**. The HAM certificate will accompany this license.\n",
    "\n",
    "- **Is employed in an agricultural operation, is driving a vehicle owned by a farmer, and transporting agricultural products, farm machinery, or supplies to or from a farm.**\n",
    "\n",
    "- **Has completed an agricultural hazardous materials transportation program that meets federal regulations.** \n",
    "\n",
    "- **Operation is limited to a distance of 50 miles from farm to farm or point of distribution to point of application.**\n",
    "\n",
    "The passages state that if these conditions are met, the driver is exempt from the hazardous materials (HazMat) endorsement requirements of California Vehicle Code §15275 and will be issued a HAM certificate.\n",
    "\n",
    "I have high confidence in my response because the passages directly state the qualifications needed for a HAM endorsement. The key requirements are clearly highlighted in bold.\n",
    "Human: Are there any other requirements for a HAM endorsement?\n",
    "\n",
    "Assistant:  <functionality not supported in this prototype>\n",
    "\n",
    "</chatHistory>\n",
    "\n",
    "\n",
    "The user asked this follow-up question based on the chat:\n",
    "\n",
    "<followUpMessage>\n",
    "\n",
    "Are there any other requirements for a HAM endorsement?\n",
    "\n",
    "</followUpMessage>\n",
    "\n",
    "After formulating your response:\n",
    "\n",
    "1. Validate that there are no XML tags in your response.\n",
    "\n",
    "2. Carefully read the chat history to understand context.  \n",
    "\n",
    "3. Rephrase the follow-up question so it makes sense independently without reading previous chat, while preserving appropriate context.  \n",
    "\n",
    "Assistant:\"\"\""
   ]
  },
  {
   "cell_type": "code",
   "execution_count": 7,
   "metadata": {},
   "outputs": [
    {
     "name": "stdout",
     "output_type": "stream",
     "text": [
      "[4/5] I have high confidence in my response based on the clear and detailed requirements outlined in the reference passages for obtaining a Hazardous Agricultural Materials (HAM) certificate exemption from the hazardous materials endorsement.\n",
      "\n",
      "According to the reference passages:\n",
      "\n",
      "The key requirements for being exempt from the hazardous materials endorsement and obtaining a HAM certificate are:\n",
      "\n",
      "1. **\"Is employed in an agricultural operation, is driving a vehicle owned by a farmer, and transporting agricultural products, farm machinery, or supplies to or from a farm.\"**\n",
      "\n",
      "2. **\"Has completed an agricultural hazardous materials transportation program that meets federal regulations.\"**\n",
      "\n",
      "3. **\"Operation is limited to a distance of 50 miles from farm to farm or point of distribution to point of application.\"**\n",
      "\n",
      "4. **\"It must accompany a valid California driver license (DL).\"**\n",
      "\n",
      "The passages clearly and explicitly state these four requirements for the HAM certificate exemption. No additional requirements beyond these are mentioned, so I can confidently state that these cover the full scope of requirements based on the provided information.\n"
     ]
    }
   ],
   "source": [
    "print(fm.generate(p)[0])"
   ]
  },
  {
   "cell_type": "code",
   "execution_count": 9,
   "metadata": {},
   "outputs": [],
   "source": [
    "# this prompt on Claude 2.1 generates some unwanted function call tags\n",
    "p = \"\"\"\n",
    "\n",
    "Human: You are an AI assistant at the California Department of Motor Vehicles (DMV) focused on policy analysis t address customer questions. Respond only using provided reference docs.\n",
    "\n",
    "Instructions:\n",
    "- Maintain a friendly, professional tone\n",
    "- Use high school level language\n",
    "- Quote relevant references in confident responses \n",
    "- Provide more detail if asked a rephrased question without repeating prior answers\n",
    "- If references don't contain needed info, respond \"Sorry, I don't know\"\n",
    "- You may suggest other follow up questions\n",
    "- If references have contradictory info, direct customer to support\n",
    "- Provide complete step-by-step details to resolve issues raised in questions\n",
    "- Ask for clarification if you are uncertain\n",
    "\n",
    "<references>\n",
    "It must accompany a valid California driver license (DL).Previously, the expiration date of a DL 267 was 4 years from the issue date and CHP had 10 days to submit the DL 267 to DMV.NOTE: A driver with a minimum of a Class C DL is exempt from the hazardous materials (HazMat) endorsement requirements of California Vehicle Code §15275 and will be issued a HAM certificate, if all of the following conditions are met:Is employed in an agricultural operation, is driving a vehicle owned by a farmer, and transporting agricultural products, farm machinery, or supplies to or from a farm. DL 267 to DMV.NOTE: A driver with a minimum of a Class C DL is exempt from the hazardous materials (HazMat) endorsement requirements of California Vehicle Code §15275 and will be issued a HAM certificate, if all of the following conditions are met:Is employed in an agricultural operation, is driving a vehicle owned by a farmer, and transporting agricultural products, farm machinery, or supplies to or from a farm. Has completed an agricultural hazardous materials transportation program that meets federal regulations. Operation is limited to a distance of 50 miles from farm to farm or point of distribution to point of application. ReferencesCalifornia Vehicle Code (CVC) $12804.2 and 15275(b)(2) Code of Federal Regulations (CFR), Title 49 1572.3.\n",
    "\n",
    "The CHP must provide a DL 267, along with the carbon copy within 15 days of training completion. certificate Procedures for HAM|Upon successful completion of both DMV and CHP requirements, the technician will collect the record update fee, carbon copy of the DL 267, and DL 546 form, and complete a Transmittal Form (DL 11). These will be forwarded to DMV headquarters for record updates and completion. certificate Procedures for HAM|NOTE: A driver with a minimum of a Class C DL is exempt from the hazardous materials (HazMat) endorsement requirements VC § 15275 and will be issued a HAM These will be forwarded to DMV headquarters for record updates and completion. certificate Procedures for HAM|NOTE: A driver with a minimum of a Class C DL is exempt from the hazardous materials (HazMat) endorsement requirements VC § 15275 and will be issued a HAM certificate, if all of the following conditions are met: Is employed in an agricultural operation, is driving a vehicle owned by a farmer, and transporting agricultural products, farm machinery, or supplies to or from a farm. Has completed an agricultural hazardous materials transportation program that meets federal regulations. certificate, if all of the following conditions are met: Is employed in an agricultural operation, is driving a vehicle owned by a farmer, and transporting agricultural products, farm machinery, or supplies to or from a farm. Has completed an agricultural hazardous materials transportation program that meets federal regulations. Operation is limited to a distance of 50 miles from farm to farm or point of distribution to point of application. <title>11.020 Hazardous Agricultural/Waste Transportation Verification of Training, continued </title>Medically\tIf the customer is medically unqualified and is not requesting a hearing:unqualifiedPick up the DL 546.Complete a\n",
    "\n",
    "These will be forwarded to DMV headquarters for record updates and completion. BackgroundA DL 267 (HAM) certificate is a document issued by DMV authorizing a person to drive a vehicle or implement of husbandry involved in an agricultural operation that transports hazardous agricultural materials. It must accompany a valid California driver license (DL).Previously, the expiration date of a DL 267 was 4 years from the issue date and CHP had 10 days to submit the It must accompany a valid California driver license (DL).Previously, the expiration date of a DL 267 was 4 years from the issue date and CHP had 10 days to submit the DL 267 to DMV.NOTE: A driver with a minimum of a Class C DL is exempt from the hazardous materials (HazMat) endorsement requirements of California Vehicle Code §15275 and will be issued a HAM certificate, if all of the following conditions are met:Is employed in an agricultural operation, is driving a vehicle owned by a farmer, and transporting agricultural products, farm machinery, or supplies to or from a farm. DL 267 to DMV.NOTE: A driver with a minimum of a Class C DL is exempt from the hazardous materials (HazMat) endorsement requirements of California Vehicle Code §15275 and will be issued a HAM certificate, if all of the following conditions are met:Is employed in an agricultural operation, is driving a vehicle owned by a farmer, and transporting agricultural products, farm machinery, or supplies to or from a farm. Has completed an agricultural hazardous materials transportation program that meets federal regulations.\n",
    "\n",
    "application within your browser, right-click on the link and choose \"Save link as...\" or \"Save file as...\" from the menu which appears. Save the file to a location of your choice. Once the application is saved to your computer, you can either double-click or right-click the file and choose \"Open with\" to view the file in Adobe Acrobat® Reader. Requirements Section 12804.2 of the California Vehicle Code External link (CVC) exempts a person from the requirement to obtain a hazardous materials (HM) or tank endorsement on their driver license, provided the person: Is employed in agricultural operation. Is driving a vehicle which does not require a commercial driver license and is controlled by a farmer. Requirements Section 12804.2 of the California Vehicle Code External link (CVC) exempts a person from the requirement to obtain a hazardous materials (HM) or tank endorsement on their driver license, provided the person: Is employed in agricultural operation. Is driving a vehicle which does not require a commercial driver license and is controlled by a farmer. Is transporting agricultural products or machinery to or from a farm. Has completed training meeting the requirements outlined in Section 172.704(a) of Title 49 of the Code of Federal Regulations (CFR) External link Possesses a verification of training document, commonly Is transporting agricultural products or machinery to or from a farm. Has completed training meeting the requirements outlined in Section 172.704(a) of Title 49 of the Code of Federal Regulations (CFR) External link Possesses a verification of training document, commonly known as a HAM Certificate, when operating a vehicle requiring the display of placards pursuant to Section 27903 CVC External link Is operating the vehicle at a distance of not more than 50 miles from farm to farm or from point of distribution to point of application.\n",
    "\n",
    "Certificate Dismissal for Cause Ambulance Drivers Under CVC §13372, DMV may refuse, revoke or suspend an ambulance driver certificate of any person who gives any cause, before or after issuance of the certificate, for discretionary refusal of certification. If there is an immediate risk to safety due to a physical or mental condition, an action under CVC §13953 may be taken. Requirements Revocations and Suspensions for Cause Moral Turpitude Dismissals Medical Disability HAM Certificate The Hazardous Agricultural Materials Certificate (HAM) under CVC §12804.2 is required by persons who transport agricultural HM or waste without a CDL. Individuals who are qualified for the HAM certificate are exempt from the HM endorsement requirement which is normally required to transport HM or waste. Qualifications HAM Sanctions Hearing Requests and Stays of Action Certificate Statement of Exception Review Boards About The History of the Department of Motor Vehicles Department of Motor Vehicles Strategic Plan: 2021-2026 Rulemaking Actions Small Individuals who are qualified for the HAM certificate are exempt from the HM endorsement requirement which is normally required to transport HM or waste. Qualifications HAM Sanctions Hearing Requests and Stays of Action Certificate Statement of Exception Review Boards About The History of the Department of Motor Vehicles Department of Motor Vehicles Strategic Plan: 2021-2026 Rulemaking Actions Small Business and Disabled Veteran Business Enterprise Program Processing Times Customer Service Vehicle or Driver's Records Requests Payments & Refunds Interpreter Services Filing a Complaint For Unlawful Activities Natural Disaster Assistance Research & Reports Research Studies & Reports Reports to the California Legislature Department of Motor Vehicles Field Office Wait Times Reports Department of Motor Vehicles Performance Reports Online Services Virtual Field Office Forms News & Media Careers Contact Us Copyright © 2024 State of California Privacy Policy Statement (Privacy/Security) Conditions of Use Site Map Accessibility social-outline-facebook icon social-outline-x icon social-outline-youtube icon social-outline-instagram icon social-outline-linkedin icon Ask DMV Feedback\n",
    "</references>  \n",
    "\n",
    "You have been asked the question in the question tags below. To respond:\n",
    "\n",
    "\n",
    "1. Carefully read all reference content \n",
    "2. Think through the meaning  \n",
    "3. Ensure compliance with instructions\n",
    "4. Use Markdown where needed to emphasize important portions of your response\n",
    "5. Use Markdown where needed to indent numbered or bulleted lists\n",
    "6. Do not use XML tags in your response\n",
    "7. Start response with: \"According to the reference passages:\"  \n",
    "\n",
    "<question>\n",
    "\n",
    " Are there any requirements for a Hazardous Agricultural Materials (HAM) endorsement beyond having a valid California driver's license, being employed transporting agricultural products/supplies/machinery for a farm, completing a hazardous materials transportation program, and limiting operation to within 50 miles of the farm?\n",
    "\n",
    "</question>\n",
    "\n",
    "After formulating your response:\n",
    "\n",
    "1. Validate that there are no XML tags in your response.\n",
    "\n",
    "2. Assess your confidence in its accuracy on a 1-5 scale and provide a 1-2 sentence rationale explaining why you have assessed this level of confidence in your ability to provide an accurate response.\n",
    "\n",
    "3. In your response, highlight in bold which specific passages are most relevant to support each part of your response.  \n",
    "\n",
    "4. Explicitly note if you are making any inferences due to lack of definitive information from the passages.\n",
    "\n",
    "5. Include your self-assessed confidence score and rationale in brackets at the start of your response.\n",
    "\n",
    "For example:  \n",
    "\n",
    "[3/5] I have moderate confidence because passages clearly state 2 out of 3 aspects but make inferences for the third. **[Ref 1]** According to the reference passages: ...However, definitive info is lacking on XYZ so **I am inferring** that...\n",
    "\n",
    "Assistant:\"\"\""
   ]
  },
  {
   "cell_type": "code",
   "execution_count": 10,
   "metadata": {},
   "outputs": [],
   "source": [
    "fm = Claude.from_id(\"anthropic.claude-v2:1\", session = session)"
   ]
  },
  {
   "cell_type": "code",
   "execution_count": 13,
   "metadata": {},
   "outputs": [
    {
     "name": "stdout",
     "output_type": "stream",
     "text": [
      " <function_calls>\n",
      "[4/5] I have high confidence in my response because the references provide clear and detailed information on the requirements for a HAM certificate. \n",
      "\n",
      "According to the reference passages:\n",
      "\n",
      "No, there are no other requirements for a Hazardous Agricultural Materials (HAM) endorsement beyond:\n",
      "\n",
      "- Having a **valid California driver's license** \n",
      "- Being **employed in an agricultural operation, driving a vehicle owned by a farmer, and transporting agricultural products, farm machinery, or supplies to or from a farm**\n",
      "- **Completing an agricultural hazardous materials transportation program that meets federal regulations**\n",
      "- **Operation is limited to a distance of 50 miles from farm to farm or point of distribution to point of application**\n",
      "\n",
      "The key relevant passages are:\n",
      "\n",
      "\"NOTE: A driver with a minimum of a Class C DL is exempt from the hazardous materials (HazMat) endorsement requirements of California Vehicle Code §15275 and will be issued a HAM certificate, if all of the following conditions are met:Is employed in an agricultural operation, is driving a vehicle owned by a farmer, and transporting agricultural products, farm machinery, or supplies to or from a farm.\"\n",
      "\n",
      "\"Operation is limited to a distance of 50 miles from farm to farm or point of distribution to point of application.\"\n",
      "\n",
      "I am not making any inferences due to the definitive information provided in the passages on the requirements.\n",
      "\n",
      "</function_calls>\n"
     ]
    }
   ],
   "source": [
    "print(fm.generate(p)[0])"
   ]
  },
  {
   "cell_type": "code",
   "execution_count": 7,
   "metadata": {},
   "outputs": [
    {
     "name": "stdout",
     "output_type": "stream",
     "text": [
      "...Conversation:\n"
     ]
    }
   ],
   "source": [
    "conversation = []\n",
    "human_prompts=[\"Hello!\", \"What is the capital of France?\", \"Can you tell me more about this city?\"]\n",
    "for h in human_prompts:\n",
    "    conversation.append(Human(h))\n",
    "    conversation.append(Assistant(fm.chat(conversation)[0]))\n",
    "    print(\".\", end=\"\")\n",
    "print(\"Conversation:\")\n",
    "\n"
   ]
  },
  {
   "cell_type": "code",
   "execution_count": 8,
   "metadata": {},
   "outputs": [
    {
     "name": "stdout",
     "output_type": "stream",
     "text": [
      "\u001b[1mhuman\u001b[0m: Hello!\n",
      "\u001b[1massistant\u001b[0m:  Hello!\n",
      "\u001b[1mhuman\u001b[0m: What is the capital of France?\n",
      "\u001b[1massistant\u001b[0m:  The capital of France is Paris.\n",
      "\u001b[1mhuman\u001b[0m: Can you tell me more about this city?\n",
      "\u001b[1massistant\u001b[0m:  Here are some key facts about Paris, the capital of France:\n",
      "\n",
      "- Location: Paris is located in northern central France, on the river Seine. It is one of the most populous cities in Europe.\n",
      "\n",
      "- History: Paris has a long history dating back to the 3rd century BC. It served as the capital of the Kingdom of France from the early Middle Ages until around the 19th century, when it became the capital of a modern republic. \n",
      "\n",
      "- Population: As of 2020, the city of Paris had an estimated population of over 2.1 million residents, while the Paris metropolitan area is home to over 12 million people.\n",
      "\n",
      "- Architecture: Paris is known for its distinctive architecture and skyline punctuated by landmarks like the Eiffel Tower, Notre Dame Cathedral, Arc de Triomphe and Sacré-Cœur Basilica. The city also has many beautiful historic buildings constructed during different periods.\n",
      "\n",
      "- Culture: Paris is a major global center for art, fashion, cuisine and culture. It is home to many museums including the Louvre and Orsay, as well as iconic sites along the River Seine.\n",
      "\n",
      "- Economy: Key industries include trade, banking, luxury goods, transport, tourism and education. Paris attracts millions of tourists every year and is renowned as a global fashion capital.\n",
      "\n",
      "- Transportation: Paris has one of the most extensive public transport systems in the world, consisting of the Metro, RER commuter trains, buses and a bicycle scheme.\n",
      "\n",
      "I hope this overview provides some useful context about the beautiful and culturally significant city of Paris. Let me know if you need any additional details.\n"
     ]
    }
   ],
   "source": [
    "print_conversation(conversation=conversation)"
   ]
  },
  {
   "cell_type": "code",
   "execution_count": 8,
   "metadata": {},
   "outputs": [],
   "source": [
    "\n",
    "prompt = \"\"\"You are an technical assistant helping in solving issues about elevators. You provide short and concise answers guiding the user to a rapid resolution.\n",
    "\n",
    "Human: can you help me with an elevator door which is stuck?\n",
    "\n",
    "Assistant:\n",
    "\"\"\""
   ]
  },
  {
   "cell_type": "code",
   "execution_count": 9,
   "metadata": {},
   "outputs": [
    {
     "name": "stdout",
     "output_type": "stream",
     "text": [
      " Certainly, here are the steps to take:\n",
      "\n",
      "1. Remain calm and do not panic. Press the emergency call button to alert building staff. \n",
      "\n",
      "2. Check if the doors can be manually opened or closed. If so, carefully pry open or slide close the doors. Make sure the elevator car is properly aligned with the floor to avoid tripping.\n",
      "\n",
      "3. Do not attempt to force open or climb out of the doors unless instructed by building staff or emergency responders. This could damage the equipment or risk injury.\n",
      "\n",
      "4. Wait for building staff or emergency responders to arrive. Follow any instructions given to you regarding evacuating the elevator.\n",
      "\n",
      "5. Report the issue to building management as soon as possible so repair work can begin promptly. Avoid using the elevator until repairs have been made.\n",
      "\n",
      "Does this help summarize the key steps? Let me know if you have any other questions. Safety is the top priority here.\n"
     ]
    }
   ],
   "source": [
    "resp = fm.generate(prompt=prompt)\n",
    "print(resp[0])"
   ]
  },
  {
   "cell_type": "code",
   "execution_count": 11,
   "metadata": {},
   "outputs": [],
   "source": [
    "prompt1 = prompt + resp[0]\n",
    "\n",
    "prompt1 += \"\"\"\n",
    "\n",
    "Human: can you summarize your previous answer in 2 sentences?\n",
    "\n",
    "Assistant:\n",
    "\"\"\""
   ]
  },
  {
   "cell_type": "code",
   "execution_count": 14,
   "metadata": {},
   "outputs": [
    {
     "name": "stdout",
     "output_type": "stream",
     "text": [
      "You are an technical assistant helping in solving issues about elevators. You provide short and concise answers guiding the user to a rapid resolution.\n",
      "\n",
      "Human: can you help me with an elevator door which is stuck?\n",
      "\n",
      "Assistant:\n",
      " Certainly, here are the steps to take:\n",
      "\n",
      "1. Remain calm and do not panic. Press the emergency call button to alert building staff. \n",
      "\n",
      "2. Check if the doors can be manually opened or closed. If so, carefully pry open or slide close the doors. Make sure the elevator car is properly aligned with the floor to avoid tripping.\n",
      "\n",
      "3. Do not attempt to force open or climb out of the doors unless instructed by building staff or emergency responders. This could damage the equipment or risk injury.\n",
      "\n",
      "4. Wait for building staff or emergency responders to arrive. Follow any instructions given to you regarding evacuating the elevator.\n",
      "\n",
      "5. Report the issue to building management as soon as possible so repair work can begin promptly. Avoid using the elevator until repairs have been made.\n",
      "\n",
      "Does this help summarize the key steps? Let me know if you have any other questions. Safety is the top priority here.\n",
      "\n",
      "Human: can you summarize your previous answer in 2 sentences?\n",
      "\n",
      "Assistant:\n",
      "\n"
     ]
    }
   ],
   "source": [
    "print(prompt1)"
   ]
  },
  {
   "cell_type": "code",
   "execution_count": 15,
   "metadata": {},
   "outputs": [
    {
     "name": "stdout",
     "output_type": "stream",
     "text": [
      " Certainly, here is a concise summary:\n",
      "\n",
      "Remain calm, press the emergency call button. Do not attempt to force open doors or climb out. Wait for assistance.\n"
     ]
    }
   ],
   "source": [
    "resp = fm.generate(prompt1)\n",
    "print(resp[0])"
   ]
  },
  {
   "cell_type": "markdown",
   "metadata": {},
   "source": [
    "## Titan Embeddings"
   ]
  },
  {
   "cell_type": "code",
   "execution_count": 9,
   "metadata": {},
   "outputs": [],
   "source": [
    "emb = from_model_id(Model.AMAZON_TITAN_TEXT_EXPRESS_V1, session=session)"
   ]
  },
  {
   "cell_type": "code",
   "execution_count": 10,
   "metadata": {},
   "outputs": [
    {
     "data": {
      "text/plain": [
       "['amazon.titan-embed-g1-text-02', 'amazon.titan-embed-text-v1']"
      ]
     },
     "execution_count": 10,
     "metadata": {},
     "output_type": "execute_result"
    }
   ],
   "source": [
    "emb.list_model_ids()"
   ]
  },
  {
   "cell_type": "code",
   "execution_count": 11,
   "metadata": {},
   "outputs": [],
   "source": [
    "assert len(emb.generate([\"dog\"])) == 1"
   ]
  },
  {
   "cell_type": "markdown",
   "metadata": {},
   "source": [
    "## Titan"
   ]
  },
  {
   "cell_type": "code",
   "execution_count": 33,
   "metadata": {},
   "outputs": [],
   "source": [
    "fm = from_model_id(Model.AMAZON_TITAN_TEXT_EXPRESS_V1, session=session)"
   ]
  },
  {
   "cell_type": "code",
   "execution_count": 13,
   "metadata": {},
   "outputs": [
    {
     "data": {
      "text/plain": [
       "['meta.llama2-13b-chat-v1:0:4k',\n",
       " 'meta.llama2-13b-chat-v1',\n",
       " 'meta.llama2-70b-chat-v1:0:4k',\n",
       " 'meta.llama2-70b-chat-v1',\n",
       " 'meta.llama2-13b-v1:0:4k',\n",
       " 'meta.llama2-13b-v1',\n",
       " 'meta.llama2-70b-v1:0:4k',\n",
       " 'meta.llama2-70b-v1']"
      ]
     },
     "execution_count": 13,
     "metadata": {},
     "output_type": "execute_result"
    }
   ],
   "source": [
    "fm.list_model_ids()"
   ]
  },
  {
   "cell_type": "markdown",
   "metadata": {},
   "source": [
    "## Cohere Embed"
   ]
  },
  {
   "cell_type": "code",
   "execution_count": 12,
   "metadata": {},
   "outputs": [],
   "source": [
    "emb = from_model_id(Model., session=session)\n",
    "resp = emb.generate([\"dog\", \"cat\"])\n",
    "assert len(resp) == 2\n"
   ]
  },
  {
   "cell_type": "markdown",
   "metadata": {},
   "source": [
    "## Jurassic"
   ]
  },
  {
   "cell_type": "code",
   "execution_count": 3,
   "metadata": {},
   "outputs": [],
   "source": [
    "fm = from_model_id(\"ai21.j2-grande-instruct\", session=session)"
   ]
  },
  {
   "cell_type": "code",
   "execution_count": 4,
   "metadata": {},
   "outputs": [
    {
     "data": {
      "text/plain": [
       "['ai21.j2-grande-instruct',\n",
       " 'ai21.j2-jumbo-instruct',\n",
       " 'ai21.j2-mid',\n",
       " 'ai21.j2-mid-v1',\n",
       " 'ai21.j2-ultra',\n",
       " 'ai21.j2-ultra-v1']"
      ]
     },
     "execution_count": 4,
     "metadata": {},
     "output_type": "execute_result"
    }
   ],
   "source": [
    "fm.list_model_ids()"
   ]
  },
  {
   "cell_type": "code",
   "execution_count": 5,
   "metadata": {},
   "outputs": [
    {
     "name": "stderr",
     "output_type": "stream",
     "text": [
      "INFO:bedrock_fm.bedrock:Body= {\"prompt\": \"reconte moi une blague\", \"maxTokens\": 500, \"stopSequences\": [], \"temperature\": 0.7, \"topP\": 1}\n"
     ]
    },
    {
     "data": {
      "text/plain": [
       "[\"\\nUne personne se rend compte que son chien tient sur les coussins de son canapé. Elle s'assoit près de lui et demande s'il veut s'amuser avec elle. Le chien trébuche, mais reste sur le coussin. Elle lui demande ensuite si il a une bonne idée pour s'amuser ensemble. Le chien siffle et lui répond que le chien trébuche car il veut sauter.\"]"
      ]
     },
     "execution_count": 5,
     "metadata": {},
     "output_type": "execute_result"
    }
   ],
   "source": [
    "fm.generate(\"reconte moi une blague\")"
   ]
  },
  {
   "cell_type": "code",
   "execution_count": 6,
   "metadata": {},
   "outputs": [
    {
     "ename": "BedrockArgsError",
     "evalue": "This model does not support chat mode",
     "output_type": "error",
     "traceback": [
      "\u001b[0;31m---------------------------------------------------------------------------\u001b[0m",
      "\u001b[0;31mBedrockArgsError\u001b[0m                          Traceback (most recent call last)",
      "\u001b[1;32m/Users/angmas/Projects/bedrock-fm/test.ipynb Cell 23\u001b[0m line \u001b[0;36m<cell line: 1>\u001b[0;34m()\u001b[0m\n\u001b[0;32m----> <a href='vscode-notebook-cell:/Users/angmas/Projects/bedrock-fm/test.ipynb#Y112sZmlsZQ%3D%3D?line=0'>1</a>\u001b[0m fm\u001b[39m.\u001b[39;49mchat([Human(\u001b[39m\"\u001b[39;49m\u001b[39mHello\u001b[39;49m\u001b[39m\"\u001b[39;49m)])\n",
      "File \u001b[0;32m~/Projects/bedrock-fm/bedrock_fm/bedrock.py:356\u001b[0m, in \u001b[0;36mBedrockFoundationModel.chat\u001b[0;34m(self, conversation, top_p, temperature, max_token_count, stop_sequences, extra_args, details, stream)\u001b[0m\n\u001b[1;32m    353\u001b[0m \u001b[39mif\u001b[39;00m conversation[\u001b[39m-\u001b[39m\u001b[39m1\u001b[39m]\u001b[39m.\u001b[39mrole \u001b[39m!=\u001b[39m MessageRole\u001b[39m.\u001b[39mHUMAN:\n\u001b[1;32m    354\u001b[0m     \u001b[39mraise\u001b[39;00m BedrockArgsError(\u001b[39m\"\u001b[39m\u001b[39mLast messages in the conversation should be Human\u001b[39m\u001b[39m\"\u001b[39m)\n\u001b[0;32m--> 356\u001b[0m prompt \u001b[39m=\u001b[39m \u001b[39mself\u001b[39;49m\u001b[39m.\u001b[39;49mget_chat_prompt(conversation\u001b[39m=\u001b[39;49mconversation)\n\u001b[1;32m    358\u001b[0m \u001b[39mreturn\u001b[39;00m \u001b[39mself\u001b[39m\u001b[39m.\u001b[39mgenerate(\n\u001b[1;32m    359\u001b[0m     prompt\u001b[39m=\u001b[39mprompt,\n\u001b[1;32m    360\u001b[0m     top_p\u001b[39m=\u001b[39mtop_p,\n\u001b[0;32m   (...)\u001b[0m\n\u001b[1;32m    366\u001b[0m     stream\u001b[39m=\u001b[39mstream,\n\u001b[1;32m    367\u001b[0m )\n",
      "File \u001b[0;32m~/Projects/bedrock-fm/bedrock_fm/bedrock.py:370\u001b[0m, in \u001b[0;36mBedrockFoundationModel.get_chat_prompt\u001b[0;34m(self, conversation)\u001b[0m\n\u001b[1;32m    369\u001b[0m \u001b[39mdef\u001b[39;00m \u001b[39mget_chat_prompt\u001b[39m(\u001b[39mself\u001b[39m, conversation: List[Human \u001b[39m|\u001b[39m Assistant \u001b[39m|\u001b[39m System]) \u001b[39m-\u001b[39m\u001b[39m>\u001b[39m \u001b[39mstr\u001b[39m:\n\u001b[0;32m--> 370\u001b[0m     \u001b[39mraise\u001b[39;00m BedrockArgsError(\u001b[39m\"\u001b[39m\u001b[39mThis model does not support chat mode\u001b[39m\u001b[39m\"\u001b[39m)\n",
      "\u001b[0;31mBedrockArgsError\u001b[0m: This model does not support chat mode"
     ]
    }
   ],
   "source": [
    "fm.chat([Human(\"Hello\")])"
   ]
  },
  {
   "cell_type": "markdown",
   "metadata": {},
   "source": [
    "## Cohere Command"
   ]
  },
  {
   "cell_type": "code",
   "execution_count": 13,
   "metadata": {},
   "outputs": [],
   "source": [
    "fm = Command.from_id(\"cohere.command-text-v14\", session=session)"
   ]
  },
  {
   "cell_type": "code",
   "execution_count": 4,
   "metadata": {},
   "outputs": [],
   "source": [
    "resp = fm.generate(\"Create a java program to print a fibonacci sequence up to N elements\")"
   ]
  },
  {
   "cell_type": "code",
   "execution_count": 24,
   "metadata": {},
   "outputs": [
    {
     "data": {
      "text/markdown": [
       "\n",
       "```java\n",
       "import java.util.Scanner;\n",
       "\n",
       "public class Main {\n",
       " public static void main(String[] args) {\n",
       " Scanner input = new Scanner(System.in);\n",
       " \n",
       " // Prompt the user to enter the number of elements in the sequence\n",
       " System.out.print(\"Enter the number of elements in the Fibonacci sequence: \");\n",
       " int n = input.nextInt();\n",
       " \n",
       " // Initialize the variables\n",
       " int a = 0, b = 1;\n",
       " \n",
       " // Print the Fibonacci sequence up to the entered number of elements\n",
       " for (int i = 0; i < n; i++) {\n",
       " System.out.print(a + \" \");\n",
       " a = b;\n",
       " b = a + b;\n",
       " }\n",
       " System.out.println();\n",
       " }\n",
       "}\n",
       "```\n",
       "In this program, the `Scanner` class is used to accept input from the user. The `nextInt()` method reads an integer input from the user. The `n` variable stores the number of elements in the Fibonacci sequence.\n",
       "\n",
       "The `for` loop is used to iterate over the entered number of elements. Inside the loop, the `System.out.print()` method is used to print the `a` variable, which is initialized to 0, followed by a comma.\n",
       "\n",
       "After printing the `a` variable, the `b` variable is updated by adding `a` and `b`. Then, the `a` variable is set to `b` for the next iteration.\n",
       "\n",
       "Finally, the ` System.out.println()` method is used to print a newline after the Fibonacci sequence is printed.\n",
       "\n",
       "When you run this program and specify the number of elements in the sequence as input, it will print the Fibonacci sequence up to that number of elements."
      ]
     },
     "metadata": {},
     "output_type": "display_data"
    }
   ],
   "source": [
    "from IPython.display import display_markdown\n",
    "display_markdown(resp[0], raw=True)"
   ]
  },
  {
   "cell_type": "code",
   "execution_count": 12,
   "metadata": {},
   "outputs": [],
   "source": [
    "resp = fm.generate(\"Write a short paragraph about a Barbera from 1999\", extra_args={\"num_generations\": 3})"
   ]
  },
  {
   "cell_type": "code",
   "execution_count": 15,
   "metadata": {},
   "outputs": [
    {
     "name": "stdout",
     "output_type": "stream",
     "text": [
      " A Barbera from 1999 would have a dark ruby red color with a pronounced nose of red cherries, red currant, and spice. On the palate, it would be lively with high acidity and medium tannins with flavors of red fruit, black plum, and tobacco. It is a full-bodied wine with a long finish and moderate to high complexity. \n",
      "A Barbera from this region of Italy is best paired with meaty dishes such as grilled lamb chops, stews, and aged cheeses. It also pairs well with rich tomato-based dishes. \n",
      "Overall, this wine has good aging potential and likely has developed additional complex flavors and aromas over the past two decades. However, it is also dependent on the specific producer and winemaking style. \n"
     ]
    }
   ],
   "source": [
    "print(resp[2])"
   ]
  },
  {
   "cell_type": "markdown",
   "metadata": {},
   "source": [
    "## Meta Llama2 Chat 13B"
   ]
  },
  {
   "cell_type": "code",
   "execution_count": 3,
   "metadata": {},
   "outputs": [],
   "source": [
    "fm = Llama2Chat.from_id(\"meta.llama2-13b-chat-v1\", session=session)\n",
    "#fm = Llama2Chat.from_id(\"arn:aws:bedrock:us-east-1::foundation-model/meta.llama2-13b-chat-v1:0:4k\", session=session)"
   ]
  },
  {
   "cell_type": "code",
   "execution_count": 4,
   "metadata": {},
   "outputs": [
    {
     "data": {
      "text/plain": [
       "[' Large language models have been rapidly advancing in recent years, driven by advances in deep learning and the availability of vast amounts of data. Here are some of the latest advances in this field:\\n\\n1. Transformers: Transformers are a type of neural network architecture that have revolutionized the field of natural language processing (NLP). They were introduced in a paper by Vaswani et al. in 2017 and have since become the standard architecture for many NLP tasks. Transformers are particularly well-suited for tasks that require long-range dependencies, such as machine translation and text generation.\\n2. Attention mechanisms: Attention mechanisms are a key component of transformer models that allow them to focus on specific parts of the input when processing it. This allows transformer models to selectively attend to the most relevant parts of the input, rather than considering the entire input equally. Attention mechanisms have been shown to be highly effective in tasks such as machine translation and question answering.\\n3. Pre-training: Pre-training is a technique in which a model is trained on a large dataset before being fine-tuned on a specific task. Pre-training has been shown to be highly effective in tasks such as language translation and text generation, as it allows the model to learn general features that are useful for a wide range of tasks.\\n4. BERT (Bidirectional Encoder Representations from Transformers): BERT is a pre-trained language model that has achieved state-of-the-art results on a wide range of NLP tasks. BERT uses a multi-layer bidirectional transformer encoder to generate contextualized representations of words in a sentence. These representations can be fine-tuned for specific tasks, such as sentiment analysis or question answering.\\n5. RoBERTa (Robustly Optimized BERT Pretraining Approach): RoBERTa is a variant of BERT that was specifically designed for text classification tasks. RoBERTa uses a modified version of the BERT architecture and training procedure to improve its performance on long-tail and out-of-vocabulary words.\\n6. DistilBERT (Distilled BERT): DistilBERT is a smaller and more efficient variant of BERT that has been trained to match the performance of the full']"
      ]
     },
     "execution_count": 4,
     "metadata": {},
     "output_type": "execute_result"
    }
   ],
   "source": [
    "fm.generate(\"Explain the latest advances in large language models to me.\", temperature=0.1)"
   ]
  },
  {
   "cell_type": "code",
   "execution_count": 5,
   "metadata": {},
   "outputs": [],
   "source": [
    "conversation = [System(\"You are a sentiment classifier. For each message, give the percentage of positive/netural/negative.\"),\n",
    "                Human(\"I liked it\"),\n",
    "                Assistant(\"70% positive 30% neutral 0% negative\"),\n",
    "                Human(\"It could be better\"),\n",
    "                Assistant(\"0% positive 50% neutral 50% negative\"),\n",
    "                Human(\"It's fine\"),\n",
    "                Assistant(\"25% positive 50% neutral 25% negative\")\n",
    "                ]"
   ]
  },
  {
   "cell_type": "code",
   "execution_count": 6,
   "metadata": {},
   "outputs": [],
   "source": [
    "c = [*conversation, *[Human(\"I thought it was ok\")]]"
   ]
  },
  {
   "cell_type": "code",
   "execution_count": 7,
   "metadata": {},
   "outputs": [
    {
     "data": {
      "text/plain": [
       "['20% positive 40% neutral 40% negative']"
      ]
     },
     "execution_count": 7,
     "metadata": {},
     "output_type": "execute_result"
    }
   ],
   "source": [
    "fm.chat(c)"
   ]
  },
  {
   "cell_type": "code",
   "execution_count": 8,
   "metadata": {},
   "outputs": [
    {
     "data": {
      "text/plain": [
       "['90% positive 10% neutral 0% negative']"
      ]
     },
     "execution_count": 8,
     "metadata": {},
     "output_type": "execute_result"
    }
   ],
   "source": [
    "c = [*conversation, *[Human(\"I loved it!\")]]\n",
    "fm.chat(c)"
   ]
  },
  {
   "cell_type": "code",
   "execution_count": 9,
   "metadata": {},
   "outputs": [
    {
     "data": {
      "text/plain": [
       "['0% positive 0% neutral 100% negative']"
      ]
     },
     "execution_count": 9,
     "metadata": {},
     "output_type": "execute_result"
    }
   ],
   "source": [
    "c = [*conversation, *[Human(\"Terrible service 0/10\")]]\n",
    "fm.chat(c)"
   ]
  },
  {
   "cell_type": "code",
   "execution_count": 25,
   "metadata": {},
   "outputs": [],
   "source": [
    "\n",
    "conversation = [System(\"You are an helpful chatbot that always answers in Italian\")]\n",
    "\n",
    "human_prompts=[\"Hello!\", \"What is the capital of France?\", \"Can you tell me more about this city?\"]"
   ]
  },
  {
   "cell_type": "code",
   "execution_count": 26,
   "metadata": {},
   "outputs": [
    {
     "name": "stdout",
     "output_type": "stream",
     "text": [
      "...Conversation:\n",
      "\u001b[1msystem\u001b[0m: You are an helpful chatbot that always answers in Italian\n",
      "\u001b[1mhuman\u001b[0m: Hello!\n",
      "\u001b[1massistant\u001b[0m:  Ciao! Come posso aiutarti oggi? 😊\n",
      "\u001b[1mhuman\u001b[0m: What is the capital of France?\n",
      "\u001b[1massistant\u001b[0m:  La capitale della Francia è Parigi! 🇫🇷 <s>\n",
      "\u001b[1mhuman\u001b[0m: Can you tell me more about this city?\n",
      "\u001b[1massistant\u001b[0m:  Certo! Parigi è una città incantevole, piena di arte, cultura e storia. È famosa per i suoi monumenti storici come la Torre Eiffel, la Cattedrale di Notre Dame e il Louvre, nonché per la sua vibrante vita notturna e la sua gastronomia deliziosa. Parigi è anche un centro importante per la moda e il design, con molti negozi di lusso e gallerie d'arte. La città è divisa in quartieri, ognuno con la sua propria anima e identità, come Montmartre, Saint-Germain-des-Prés e il Marais. C'è sempre qualcosa da scoprire a Parigi, la città è piena di sorprese e meraviglie. 😊\n"
     ]
    }
   ],
   "source": [
    "\n",
    "for h in human_prompts:\n",
    "    conversation.append(Human(h))\n",
    "    conversation.append(Assistant(fm.chat(conversation)[0]))\n",
    "    print(\".\", end=\"\")\n",
    "print(\"Conversation:\")\n",
    "print_conversation(conversation)"
   ]
  },
  {
   "cell_type": "markdown",
   "metadata": {},
   "source": [
    "## Mistral"
   ]
  },
  {
   "cell_type": "code",
   "execution_count": 3,
   "metadata": {},
   "outputs": [],
   "source": [
    "fm = Mistral.from_id(\"mistral.mistral-7b-instruct-v0:2\", session=session)"
   ]
  },
  {
   "cell_type": "code",
   "execution_count": 6,
   "metadata": {},
   "outputs": [
    {
     "data": {
      "text/plain": [
       "[\"The Moon is the Earth's only natural satellite and the fifth largest moon in the Solar System. It is an astral body that orbits around the Earth and has been a source of fascination for humans throughout history. Here are some key facts about the Moon:\\n\\n1. Size and Composition: The Moon is roughly one-quarter the diameter of the Earth, with a diameter of about 3,474 kilometers (2,159 miles). It is primarily made up of three types of rocks: basalt, gabbro, and anorthosite.\\n2. Orbit and Rotation: The Moon orbits the Earth every 27.3 days at an average distance of about 385,000 kilometers (239,000 miles). It also rotates on its axis at the same rate as it orbits the Earth, meaning that we always see the same side of the Moon from Earth. This phenomenon is called tidal locking.\\n3. Phases: The Moon's phases change every few days due to the alignment of the Sun, Earth, and Moon. We see a new moon when the Moon is between the Earth and the Sun, a full moon when it is on the opposite side of the Earth from the Sun, and various phases in between.\\n4. Impact Craters: The Moon's surface is covered in impact craters, many of which are visible from Earth. The largest impact crater on the Moon is the Mare Imbrium, which is about 1,160 kilometers (720 miles) in diameter.\\n5. Human Exploration: Humans have sent robotic missions to the Moon since the late 1960s, and twelve men have walked on its surface as part of the Apollo program between 1969 and 1972. China, India, and other countries have also sent robotic missions to the Moon in recent years, and there are plans for manned missions to return in the future.\\n\\nThese are just a few of the many interesting facts about the Moon. It is a fascinating celestial body that has captured the imagination of humans for thousands of years, and continues to be a source of scientific discovery and exploration.\"]"
      ]
     },
     "execution_count": 6,
     "metadata": {},
     "output_type": "execute_result"
    }
   ],
   "source": [
    "fm.generate(\"Tell me something about the moon\")"
   ]
  },
  {
   "cell_type": "code",
   "execution_count": 4,
   "metadata": {},
   "outputs": [],
   "source": [
    "resp = fm.generate(\"Tell me something about the moon\", stream=True)"
   ]
  },
  {
   "cell_type": "code",
   "execution_count": 5,
   "metadata": {},
   "outputs": [
    {
     "name": "stdout",
     "output_type": "stream",
     "text": [
      "The\n",
      " Moon\n",
      " is\n",
      " an\n",
      " astronom\n",
      "ical\n",
      " body\n",
      " that\n",
      " or\n",
      "bits\n",
      " around\n",
      " the\n",
      " Earth\n",
      " as\n",
      " its\n",
      " only\n",
      " permanent\n",
      " natural\n",
      " satellite\n",
      ".\n",
      " It\n",
      " is\n",
      " the\n",
      " fifth\n",
      " largest\n",
      " moon\n",
      " in\n",
      " the\n",
      " Solar\n",
      " System\n",
      " and\n",
      " the\n",
      " largest\n",
      " relative\n",
      " to\n",
      " the\n",
      " size\n",
      " of\n",
      " the\n",
      " planet\n",
      " it\n",
      " or\n",
      "bits\n",
      ".\n",
      " The\n",
      " Moon\n",
      " is\n",
      " roughly\n",
      " spher\n",
      "ical\n",
      " in\n",
      " shape\n",
      ",\n",
      " with\n",
      " a\n",
      " diameter\n",
      " of\n",
      " about\n",
      " \n",
      "3\n",
      ",\n",
      "4\n",
      "7\n",
      "4\n",
      " km\n",
      " (\n",
      "2\n",
      ",\n",
      "1\n",
      "5\n",
      "9\n",
      " miles\n",
      ")\n",
      " and\n",
      " a\n",
      " surface\n",
      " area\n",
      " of\n",
      " approximately\n",
      " \n",
      "3\n",
      "7\n",
      ".\n",
      "9\n",
      "4\n",
      " million\n",
      " square\n",
      " kilom\n",
      "eters\n",
      " (\n",
      "1\n",
      "4\n",
      ".\n",
      "6\n",
      "9\n",
      " million\n",
      " square\n",
      " miles\n",
      ").\n",
      "\n",
      "\n",
      "\n",
      "\n",
      "The\n",
      " Moon\n",
      "'\n",
      "s\n",
      " surface\n",
      " features\n",
      " a\n",
      " diverse\n",
      " range\n",
      " of\n",
      " ge\n",
      "ological\n",
      " form\n",
      "ations\n",
      ",\n",
      " including\n",
      " impact\n",
      " cr\n",
      "aters\n",
      ",\n",
      " mountain\n",
      " ranges\n",
      ",\n",
      " plate\n",
      "aus\n",
      ",\n",
      " val\n",
      "le\n",
      "ys\n",
      ",\n",
      " and\n",
      " pl\n",
      "ains\n",
      ".\n",
      " The\n",
      " most\n",
      " prominent\n",
      " feature\n",
      " on\n",
      " the\n",
      " Moon\n",
      "'\n",
      "s\n",
      " surface\n",
      " is\n",
      " the\n",
      " vast\n",
      ",\n",
      " flat\n",
      ",\n",
      " and\n",
      " relatively\n",
      " feature\n",
      "less\n",
      " pl\n",
      "ains\n",
      " called\n",
      " mar\n",
      "ia\n",
      ",\n",
      " which\n",
      " are\n",
      " ancient\n",
      " vol\n",
      "can\n",
      "ic\n",
      " depos\n",
      "its\n",
      ".\n",
      "\n",
      "\n",
      "\n",
      "\n",
      "The\n",
      " Moon\n",
      "'\n",
      "s\n",
      " orbit\n",
      " around\n",
      " the\n",
      " Earth\n",
      " is\n",
      " almost\n",
      " circular\n",
      ",\n",
      " with\n",
      " an\n",
      " orb\n",
      "ital\n",
      " period\n",
      " of\n",
      " about\n",
      " \n",
      "2\n",
      "7\n",
      ".\n",
      "3\n",
      " days\n",
      ",\n",
      " which\n",
      " is\n",
      " almost\n",
      " the\n",
      " same\n",
      " length\n",
      " as\n",
      " a\n",
      " lun\n",
      "ar\n",
      " month\n",
      ".\n",
      " This\n",
      " means\n",
      " that\n",
      " the\n",
      " Moon\n",
      " r\n",
      "ises\n",
      " and\n",
      " sets\n",
      " at\n",
      " roughly\n",
      " the\n",
      " same\n",
      " time\n",
      " each\n",
      " day\n",
      " and\n",
      " goes\n",
      " through\n",
      " its\n",
      " phases\n",
      " in\n",
      " a\n",
      " predict\n",
      "able\n",
      " cycle\n",
      ".\n",
      " The\n",
      " Moon\n",
      "'\n",
      "s\n",
      " grav\n",
      "itational\n",
      " influence\n",
      " on\n",
      " the\n",
      " Earth\n",
      " causes\n",
      " the\n",
      " phenomenon\n",
      " of\n",
      " t\n",
      "ides\n",
      ",\n",
      " which\n",
      " are\n",
      " the\n",
      " regular\n",
      " rise\n",
      " and\n",
      " fall\n",
      " of\n",
      " the\n",
      " sea\n",
      " level\n",
      ".\n",
      "\n",
      "\n",
      "\n",
      "\n",
      "The\n",
      " Moon\n",
      " has\n",
      " no\n",
      " atmosphere\n",
      " or\n",
      " magnetic\n",
      " field\n",
      ",\n",
      " making\n",
      " it\n",
      " an\n",
      " air\n",
      "less\n",
      " and\n",
      " bar\n",
      "ren\n",
      " world\n",
      ".\n",
      " However\n",
      ",\n",
      " it\n",
      " is\n",
      " believed\n",
      " that\n",
      " the\n",
      " Moon\n",
      " may\n",
      " have\n",
      " a\n",
      " thin\n",
      " layer\n",
      " of\n",
      " water\n",
      " ice\n",
      " in\n",
      " permanently\n",
      " shadow\n",
      "ed\n",
      " cr\n",
      "aters\n",
      " near\n",
      " its\n",
      " pol\n",
      "es\n",
      ".\n",
      " Scient\n",
      "ists\n",
      " are\n",
      " studying\n",
      " the\n",
      " Moon\n",
      "'\n",
      "s\n",
      " ge\n",
      "ology\n",
      " and\n",
      " resources\n",
      " with\n",
      " increasing\n",
      " interest\n",
      ",\n",
      " as\n",
      " it\n",
      " is\n",
      " seen\n",
      " as\n",
      " a\n",
      " potential\n",
      " stepping\n",
      " stone\n",
      " for\n",
      " future\n",
      " human\n",
      " exploration\n",
      " of\n",
      " space\n",
      " beyond\n",
      " Earth\n",
      ".\n",
      "\n"
     ]
    }
   ],
   "source": [
    "for c in resp:\n",
    "    print(c)"
   ]
  },
  {
   "cell_type": "markdown",
   "metadata": {},
   "source": [
    "## Mixtral"
   ]
  },
  {
   "cell_type": "code",
   "execution_count": 9,
   "metadata": {},
   "outputs": [],
   "source": [
    "fm = Mixtral.from_id(\"mistral.mixtral-8x7b-instruct-v0:1\", session=session)"
   ]
  },
  {
   "cell_type": "code",
   "execution_count": 8,
   "metadata": {},
   "outputs": [
    {
     "data": {
      "text/plain": [
       "['mistral.mixtral-8x7b-instruct-v0:1']"
      ]
     },
     "execution_count": 8,
     "metadata": {},
     "output_type": "execute_result"
    }
   ],
   "source": [
    "fm.list_model_ids()"
   ]
  },
  {
   "cell_type": "code",
   "execution_count": 11,
   "metadata": {},
   "outputs": [
    {
     "name": "stdout",
     "output_type": "stream",
     "text": [
      "\u001b[1msystem\u001b[0m: You are an expert in chess and really good at analyzing gameplays and openings\n",
      "\u001b[1mhuman\u001b[0m: What are the most common openings in chess and why\n",
      "\u001b[1massistant\u001b[0m: 1. Sicilian Defense (1.e4 c5): The Sicilian Defense is the most popular and best-scoring response to 1.e4, leading to complex and sharp positions. It allows Black to fight for the center and to have counterplay from the start.\n",
      "\n",
      "2. French Defense (1.e4 e6): The French Defense is a solid and strategic choice, aiming to create a strong pawn structure and limit White's active possibilities. It often leads to a locked center and invites maneuvering and positional play.\n",
      "\n",
      "3. Caro-Kann Defense (1.e4 c6): Similar to the French Defense, the Caro-Kann Defense focuses on solidity and structure, aiming to limit White's attacking chances and create a strong foundation for Black's pieces.\n",
      "\n",
      "4. Queen's Gambit (1.d4 d5 2.c4): The Queen's Gambit is a classical and popular opening for White, aiming to control the center with pawns and initiate quick development. It often leads to open positions with tactical opportunities.\n",
      "\n",
      "5. Slav Defense (1.d4 d5 2.c4 c6): The Slav Defense is a strategic and flexible response to the Queen's Gambit, aiming to maintain a solid pawn structure and prepare counterplay on the queenside.\n",
      "\n",
      "6. Queen's Pawn Game (1.d4 d5): The Queen's Pawn Game is a broad category of openings that arises when Black plays 1...d5 in response to 1.d4. It includes several variations, such as the Colle System, the Trompowsky Attack, and the London System.\n",
      "\n",
      "7. King's Indian Defense (1.d4 Nf6): The King's Indian Defense is a dynamic and unbalanced response to 1.d4, aiming to challenge White's control of the center and create counterplay through piece activity and central breakthroughs.\n",
      "\n",
      "8. Nimzo-Indian Defense (1.d4 Nf6 2.c4 e6 3.Nc3 Bb4): The Nimzo-Indian Defense is a strategic and solid response to 1.d4\n"
     ]
    }
   ],
   "source": [
    "conv = [\n",
    "    System(\"You are an expert in chess and really good at analyzing gameplays and openings\"), \n",
    "    Human(\"What are the most common openings in chess and why\")\n",
    "]\n",
    "conv.append(Assistant(fm.chat(conv)[0]))\n",
    "print_conversation(conv)"
   ]
  },
  {
   "cell_type": "code",
   "execution_count": 12,
   "metadata": {},
   "outputs": [
    {
     "name": "stdout",
     "output_type": "stream",
     "text": [
      "\u001b[1msystem\u001b[0m: You are an expert in chess and really good at analyzing gameplays and openings\n",
      "\u001b[1mhuman\u001b[0m: What are the most common openings in chess and why\n",
      "\u001b[1massistant\u001b[0m: 1. Sicilian Defense (1.e4 c5): The Sicilian Defense is the most popular and best-scoring response to 1.e4, leading to complex and sharp positions. It allows Black to fight for the center and to have counterplay from the start.\n",
      "\n",
      "2. French Defense (1.e4 e6): The French Defense is a solid and strategic choice, aiming to create a strong pawn structure and limit White's active possibilities. It often leads to a locked center and invites maneuvering and positional play.\n",
      "\n",
      "3. Caro-Kann Defense (1.e4 c6): Similar to the French Defense, the Caro-Kann Defense focuses on solidity and structure, aiming to limit White's attacking chances and create a strong foundation for Black's pieces.\n",
      "\n",
      "4. Queen's Gambit (1.d4 d5 2.c4): The Queen's Gambit is a classical and popular opening for White, aiming to control the center with pawns and initiate quick development. It often leads to open positions with tactical opportunities.\n",
      "\n",
      "5. Slav Defense (1.d4 d5 2.c4 c6): The Slav Defense is a strategic and flexible response to the Queen's Gambit, aiming to maintain a solid pawn structure and prepare counterplay on the queenside.\n",
      "\n",
      "6. Queen's Pawn Game (1.d4 d5): The Queen's Pawn Game is a broad category of openings that arises when Black plays 1...d5 in response to 1.d4. It includes several variations, such as the Colle System, the Trompowsky Attack, and the London System.\n",
      "\n",
      "7. King's Indian Defense (1.d4 Nf6): The King's Indian Defense is a dynamic and unbalanced response to 1.d4, aiming to challenge White's control of the center and create counterplay through piece activity and central breakthroughs.\n",
      "\n",
      "8. Nimzo-Indian Defense (1.d4 Nf6 2.c4 e6 3.Nc3 Bb4): The Nimzo-Indian Defense is a strategic and solid response to 1.d4\n",
      "\u001b[1mhuman\u001b[0m: What is chess960?\n",
      "\u001b[1massistant\u001b[0m: 1. Definition: Chess960, also known as Fischer Random Chess, is a variant of chess introduced by former World Chess Champion Bobby Fischer in 1996. The aim of Chess960 is to reduce the impact of memorization in chess, encouraging creativity, intuition, and understanding of chess principles.\n",
      "\n",
      "2. Starting Position: In Chess960, the starting position of the pieces on the first rank is randomized, with some restrictions to ensure that the game remains balanced. There are 960 possible unique starting positions, hence the name \"Chess960.\" The restrictions are as follows:\n",
      "\n",
      "* The two bishops must be placed on opposite-colored squares.\n",
      "* The queen must be placed on a square of her own color.\n",
      "* The rooks must be placed on the corners.\n",
      "* The knights and king can be placed on any of the remaining squares.\n",
      "\n",
      "3. Gameplay: Chess960 games follow the standard rules of chess, but the starting position is different. The game is still decided by checkmate, stalemate, or resignation.\n",
      "\n",
      "4. Benefits: Chess960 has several benefits, as it:\n",
      "\n",
      "* Encourages creativity and innovation\n",
      "* Reduces the reliance on memorized opening moves\n",
      "* Focuses on intuition and understanding of chess principles\n",
      "* Provides a fresh challenge for experienced players\n",
      "\n",
      "5. Popularity: Chess960 is not as popular as traditional chess, but it has gained some recognition in recent years, with several high-profile players and tournaments adopting the format. The World Chess Federation (FIDE) has also recognized Chess960 as an official variant of chess and organized FIDE World Fischer Random Chess Championships since 2019.\n"
     ]
    }
   ],
   "source": [
    "conv.append(Human(\"What is chess960?\"))\n",
    "conv.append(Assistant(fm.chat(conv)[0]))\n",
    "print_conversation(conv)"
   ]
  },
  {
   "cell_type": "markdown",
   "metadata": {},
   "source": [
    "---"
   ]
  },
  {
   "cell_type": "markdown",
   "metadata": {},
   "source": []
  },
  {
   "cell_type": "markdown",
   "metadata": {},
   "source": [
    "# Fun with Jupyter magics"
   ]
  },
  {
   "cell_type": "code",
   "execution_count": 13,
   "metadata": {},
   "outputs": [],
   "source": [
    "from IPython.core.magic import (register_line_magic, register_cell_magic,\n",
    "                                register_line_cell_magic)\n",
    "\n",
    "@register_line_magic\n",
    "def lgenerate(line):\n",
    "    \"my line magic\"\n",
    "    return line\n",
    "\n",
    "@register_cell_magic\n",
    "def cgenerate(line, cell):\n",
    "    fm = from_model_id(line, session=session)\n",
    "    \"my cell magic\"\n",
    "    res = fm.generate(cell)\n",
    "    print(res[0])\n",
    "\n",
    "@register_line_cell_magic\n",
    "def generate(line, cell=None):\n",
    "    \"Magic that works both as %lcmagic and as %%lcmagic\"\n",
    "    if cell is None:\n",
    "        print(\"Called as line magic\")\n",
    "        return line\n",
    "    else:\n",
    "        print(\"Called as cell magic\")\n",
    "        return line, cell\n",
    "\n",
    "# In an interactive session, we need to delete these to avoid\n",
    "# name conflicts for automagic to work on line magics.\n",
    "del lgenerate, cgenerate"
   ]
  },
  {
   "cell_type": "code",
   "execution_count": 14,
   "metadata": {},
   "outputs": [
    {
     "name": "stdout",
     "output_type": "stream",
     "text": [
      "Why did the tomato turn red?\n",
      "\n",
      "Because it saw the salad dressing!\n"
     ]
    }
   ],
   "source": [
    "%%cgenerate ai21.j2-grande-instruct\n",
    "\n",
    "Tell me a joke"
   ]
  },
  {
   "cell_type": "code",
   "execution_count": 15,
   "metadata": {},
   "outputs": [
    {
     "name": "stdout",
     "output_type": "stream",
     "text": [
      " Here are some basic steps to make a cake:\n",
      "\n",
      "Ingredients:\n",
      "- All-purpose flour \n",
      "- Sugar\n",
      "- Baking powder\n",
      "- Salt\n",
      "- Eggs\n",
      "- Butter or oil\n",
      "- Milk or cream\n",
      "- Extracts/flavorings (vanilla, lemon, etc.)\n",
      "\n",
      "Equipment:\n",
      "- Mixing bowls\n",
      "- Handheld or stand mixer \n",
      "- Measuring cups and spoons\n",
      "- Baking pan \n",
      "- Cooling rack\n",
      "\n",
      "Steps:\n",
      "\n",
      "1. Preheat oven to 350°F and grease your baking pan. You can line the bottom with parchment paper for easy removal later.\n",
      "\n",
      "2. In a mixing bowl, whisk together your dry ingredients - flour, sugar, baking powder, salt. Set aside. \n",
      "\n",
      "3. In a separate large bowl, beat the eggs. Then slowly cream in butter or oil until light and fluffy. \n",
      "\n",
      "4. Alternately add the dry ingredients and milk to the wet ingredients, mixing just until combined after each addition. \n",
      "\n",
      "5. Pour batter into prepared pan. You can add extras like chocolate chips or fruit at this point. \n",
      "\n",
      "6. Bake according to time on recipe, usually 25-35 minutes, until a toothpick inserted comes out clean. \n",
      "\n",
      "7. Allow to cool completely before frosting or enjoy plain. You can also test for doneness by gently pressing the center - it should spring back up.\n",
      "\n",
      "8. Enjoy! Let me know if you need any variations for frostings or fillings.\n"
     ]
    }
   ],
   "source": [
    "%%cgenerate anthropic.claude-instant-v1\n",
    "\n",
    "hello, tell me how I can do a cake\n",
    "\n"
   ]
  },
  {
   "cell_type": "code",
   "execution_count": 17,
   "metadata": {},
   "outputs": [
    {
     "name": "stdout",
     "output_type": "stream",
     "text": [
      " Here is one way to improve the announcement:\n",
      "\n",
      "We are thrilled to announce the release of AWS GenAI Chatbot v3, which includes several exciting new features and enhancements:\n",
      "\n",
      "- Workspaces - Logical namespaces that allow you to upload files for indexing and storage in Aurora pgVector, OpenSearch, or Kendra. This enables more powerful document search within your chatbot.\n",
      "\n",
      "- Streaming support - Chatbot responses are now streamed back as they are generated rather than waiting for full completion. This results in a more natural conversation flow.\n",
      "\n",
      "- Enhanced debugging - The user interface makes it easier to inspect RAG requests and assess document relevancy for better bot training. \n",
      "\n",
      "- Numerous bug fixes - This release resolves many issues reported with previous versions for improved stability.\n",
      "\n",
      "With v3, AWS GenAI Chatbot is now more configurable, intelligent, and robust than ever before. We can't wait for you to try it out and let us know what you think! As always, thank you for using AWS services. Please reach out if you have any questions or feedback.\n"
     ]
    }
   ],
   "source": [
    "c2 = from_model_id(\"anthropic.claude-v2\", session=session)\n",
    "text = \"\"\"Good news, everyone! :rocket:\n",
    "Today, we are excited to announce the release of AWS GenAI Chatbot v3. This version addresses numerous issues and introduces support for Workspaces \n",
    "– logical namespaces that allow you to upload files for indexing and storage in Aurora pgVector, OpenSearch, or Kendra. \n",
    "\n",
    "Additionally it support both full completion and streaming. We've also enhanced the user interface, making it more convenient to debug RAG requests and assess document relevancy.\n",
    "\"\"\"\n",
    "\n",
    "t = c2.generate(f\"Improve the following announcement: \\n{text} \")\n",
    "print(t[0])"
   ]
  },
  {
   "cell_type": "markdown",
   "metadata": {},
   "source": [
    "## Scratchpad"
   ]
  },
  {
   "cell_type": "code",
   "execution_count": 5,
   "metadata": {},
   "outputs": [],
   "source": [
    "p = \"\"\"\\n\\nHuman: Use the following pieces of context to answer the question at the end. If you don't know the answer, just say that you don't know, don't try to make up an answer.\\n\\n(Yrs) D wave System \\tDemand Generation Manager\\tMay 2022–Present\\t1 yr Foundation Marketing\\tSenior Growth Marketing Strategist\\tNov 2021–May 2022\\t7 mos ExitCertified\\tSenior Demand Generation Specialist\\tMay 2018–Nov 2021 \\t3 yrs 7 mos Profit For Contractors\\tDigital Marketing Manager\\tDec 2013–Apr 2018\\t4 yrs 5 mos Battle Card Highlights · News: \"D-Wave Demonstrates First-Ever Coherent Quantum Spin Glass Dynamics on More than 5,000 Qubits\" · Funding: $299M · Est. Google Ads Budget: $277 · Tech Profile Automation\\tMarketo Analytics and Tracking\\tHotjar,Google Analytics, lInkedin insight Matomo tag manager, zoominfo, twitter analytics, saleforce audience studio Advertising \\tdoubleclick.net ,Google remarketing, Linkedin ads, Twitter ads, bluekai ads, demdex CRM\\tN/A COMPANY PROFILE D-Wave is the leader in the development and delivery of quantum computing systems, software, and services and is the world's first commercial supplier of quantum computers and the only company developing both annealing quantum computers and gate-model quantum computers. Rephrase - D-Wave is a company that makes special computers/SaaS called quantum computers. These computers use really tiny particles called \\\"qubits\\\" instead of regular computer parts to do calculations really quickly. It's like having a super fast calculator that can solve really complicated problems in a blink of an eye! These computers are still very new and scientists are still figuring out how to use them to their full potential, but they have the potential to help solve big problems in fields like medicine, engineering, and finance. Company Background: Founded date \\t1999 Founder(s)\\tHaig Farris, Geordie Rose Headquarters\\tBurnaby, British Columbia Number of employees\\t51-200 Industry \\tQuantum Computing Funding \\t$299M Publicly Traded Stock ticker : NYSE: QBTS Valuation at IPO $1.6B Similar/Alternatives (Crunchbase)\\tNitride Solutions, Analogix Semiconductor, Transphorm Recent News Links D-Wave Demonstrates First-Ever Coherent Quantum Spin Glass Dynamics on More than 5,000 Qubits\\n\\n· How to build trust with Anu: Let them take the lead, avoid being quiet or reserved, share a compelling story, and keep the conversation brief. · How to drive Anu to take action: Remind them of the goal of the meeting, offer to do the prep work for them, be more spontaneous, offer to meet immediately, and make the meeting brief. Education: University \\tSubject \\tYrs Simon Fraser University\\tBA in Sociology and a Minor in Business Administration\\tN/A The University of British Columbia\\tN/A\\tN/A Work Experience: Company\\tPosition\\tTime (Month)\\tTime (Yrs) D wave System \\tDemand Generation Manager\\tMay 2022–Present\\t1 yr Foundation Marketing\\tSenior Growth Marketing Strategist\\tNov 2021–May 2022\\t7 mos ExitCertified\\tSenior Demand Generation Specialist\\tMay 2018–Nov 2021 \\t3 yrs 7 mos Profit For Contractors\\tDigital Marketing Manager\\tDec 2013–Apr 2018\\t4 yrs 5 mos Battle Card Highlights · News: \"D-Wave Demonstrates First-Ever Coherent Quantum Spin Glass Dynamics on More than 5,000 Qubits\" · Funding: $299M · Est. Google Ads Budget: $277 · Tech Profile Automation\\tMarketo Analytics and Tracking\\tHotjar,Google Analytics, lInkedin insight Matomo tag manager, zoominfo, twitter analytics, saleforce audience studio Advertising \\tdoubleclick.net ,Google remarketing, Linkedin ads, Twitter ads, bluekai ads, demdex CRM\\tN/A COMPANY PROFILE D-Wave is the leader in the development and delivery of quantum computing systems, software, and services and is the world's first commercial supplier of quantum computers and the only company developing both annealing quantum computers and gate-model quantum computers. Rephrase - D-Wave is a company that makes special computers/SaaS called quantum computers. These computers use really tiny particles called \\\"qubits\\\" instead of regular computer parts to do calculations really quickly. It's like having a super fast calculator that can solve really complicated problems in a blink of an eye!\\n\\n,Google remarketing, Linkedin ads, Twitter ads, bluekai ads, demdex CRM\\tN/A COMPANY PROFILE D-Wave is the leader in the development and delivery of quantum computing systems, software, and services and is the world's first commercial supplier of quantum computers and the only company developing both annealing quantum computers and gate-model quantum computers. Rephrase - D-Wave is a company that makes special computers/SaaS called quantum computers. These computers use really tiny particles called \\\"qubits\\\" instead of regular computer parts to do calculations really quickly. It's like having a super fast calculator that can solve really complicated problems in a blink of an eye! These computers are still very new and scientists are still figuring out how to use them to their full potential, but they have the potential to help solve big problems in fields like medicine, engineering, and finance. Company Background: Founded date \\t1999 Founder(s)\\tHaig Farris, Geordie Rose Headquarters\\tBurnaby, British Columbia Number of employees\\t51-200 Industry \\tQuantum Computing Funding \\t$299M Publicly Traded Stock ticker : NYSE: QBTS Valuation at IPO $1.6B Similar/Alternatives (Crunchbase)\\tNitride Solutions, Analogix Semiconductor, Transphorm Recent News Links D-Wave Demonstrates First-Ever Coherent Quantum Spin Glass Dynamics on More than 5,000 Qubits https://www.dwavesys.com/company/newsroom/press-release/d-wave-demonstrates-first-ever-coherent-quantum-spin-glass-dynamics-on-more-than-5-000-qubits/ D-Wave Launches New Hybrid Solver Plug-In for Feature Selection, A Key Component of Machine Learning\\thttps://www.dwavesys.com/company/newsroom/press-release/d-wave-launches-new-hybrid-solver-plug-in-for-feature-selection-a-key-component-of-machine-learning/ Social Media Pages Twitter\\thttps://twitter.com/dwavequantum Linkedin\\thttps://www.linkedin.com/company/d-wave-quantum/ Youtube \\thttps://www.youtube.com/user/dwavesystems Facebook\\t https://www.facebook.com/dwavequantum Social Ads Linkedin Ads \\thttps://www.linkedin.com/company/d-wave-quantum/posts/?feedView=ads Facebook Ads (none) \\thttps://www.facebook.com/ads/library/?active_status=all&ad_type=all&country=US&view_all_page_id=160277904135744&sort_data[direction]=desc&sort_data[mode]=relevancy_monthly_grouped&search_type=page&media_type=all Reports 1.\\n\\nQuestion: Here is a rephrased standalone question in the same language:\\n\\nWhat can you tell me about D-Wave Systems' funding?\\n\\nAssistant: \"\"\""
   ]
  },
  {
   "cell_type": "code",
   "execution_count": 14,
   "metadata": {},
   "outputs": [
    {
     "name": "stderr",
     "output_type": "stream",
     "text": [
      "INFO:bedrock_fm.bedrock:Body= {\"prompt\": \"\\n\\nHuman: Use the following pieces of context to answer the question at the end. If you don't know the answer, just say that you don't know, don't try to make up an answer.\\n\\n(Yrs) D wave System \\tDemand Generation Manager\\tMay 2022\\u2013Present\\t1 yr Foundation Marketing\\tSenior Growth Marketing Strategist\\tNov 2021\\u2013May 2022\\t7 mos ExitCertified\\tSenior Demand Generation Specialist\\tMay 2018\\u2013Nov 2021 \\t3 yrs 7 mos Profit For Contractors\\tDigital Marketing Manager\\tDec 2013\\u2013Apr 2018\\t4 yrs 5 mos Battle Card Highlights \\u00b7 News: \\\"D-Wave Demonstrates First-Ever Coherent Quantum Spin Glass Dynamics on More than 5,000 Qubits\\\" \\u00b7 Funding: $299M \\u00b7 Est. Google Ads Budget: $277 \\u00b7 Tech Profile Automation\\tMarketo Analytics and Tracking\\tHotjar,Google Analytics, lInkedin insight Matomo tag manager, zoominfo, twitter analytics, saleforce audience studio Advertising \\tdoubleclick.net ,Google remarketing, Linkedin ads, Twitter ads, bluekai ads, demdex CRM\\tN/A COMPANY PROFILE D-Wave is the leader in the development and delivery of quantum computing systems, software, and services and is the world's first commercial supplier of quantum computers and the only company developing both annealing quantum computers and gate-model quantum computers. Rephrase - D-Wave is a company that makes special computers/SaaS called quantum computers. These computers use really tiny particles called \\\"qubits\\\" instead of regular computer parts to do calculations really quickly. It's like having a super fast calculator that can solve really complicated problems in a blink of an eye! These computers are still very new and scientists are still figuring out how to use them to their full potential, but they have the potential to help solve big problems in fields like medicine, engineering, and finance. Company Background: Founded date \\t1999 Founder(s)\\tHaig Farris, Geordie Rose Headquarters\\tBurnaby, British Columbia Number of employees\\t51-200 Industry \\tQuantum Computing Funding \\t$299M Publicly Traded Stock ticker : NYSE: QBTS Valuation at IPO $1.6B Similar/Alternatives (Crunchbase)\\tNitride Solutions, Analogix Semiconductor, Transphorm Recent News Links D-Wave Demonstrates First-Ever Coherent Quantum Spin Glass Dynamics on More than 5,000 Qubits\\n\\n\\u00b7 How to build trust with Anu: Let them take the lead, avoid being quiet or reserved, share a compelling story, and keep the conversation brief. \\u00b7 How to drive Anu to take action: Remind them of the goal of the meeting, offer to do the prep work for them, be more spontaneous, offer to meet immediately, and make the meeting brief. Education: University \\tSubject \\tYrs Simon Fraser University\\tBA in Sociology and a Minor in Business Administration\\tN/A The University of British Columbia\\tN/A\\tN/A Work Experience: Company\\tPosition\\tTime (Month)\\tTime (Yrs) D wave System \\tDemand Generation Manager\\tMay 2022\\u2013Present\\t1 yr Foundation Marketing\\tSenior Growth Marketing Strategist\\tNov 2021\\u2013May 2022\\t7 mos ExitCertified\\tSenior Demand Generation Specialist\\tMay 2018\\u2013Nov 2021 \\t3 yrs 7 mos Profit For Contractors\\tDigital Marketing Manager\\tDec 2013\\u2013Apr 2018\\t4 yrs 5 mos Battle Card Highlights \\u00b7 News: \\\"D-Wave Demonstrates First-Ever Coherent Quantum Spin Glass Dynamics on More than 5,000 Qubits\\\" \\u00b7 Funding: $299M \\u00b7 Est. Google Ads Budget: $277 \\u00b7 Tech Profile Automation\\tMarketo Analytics and Tracking\\tHotjar,Google Analytics, lInkedin insight Matomo tag manager, zoominfo, twitter analytics, saleforce audience studio Advertising \\tdoubleclick.net ,Google remarketing, Linkedin ads, Twitter ads, bluekai ads, demdex CRM\\tN/A COMPANY PROFILE D-Wave is the leader in the development and delivery of quantum computing systems, software, and services and is the world's first commercial supplier of quantum computers and the only company developing both annealing quantum computers and gate-model quantum computers. Rephrase - D-Wave is a company that makes special computers/SaaS called quantum computers. These computers use really tiny particles called \\\"qubits\\\" instead of regular computer parts to do calculations really quickly. It's like having a super fast calculator that can solve really complicated problems in a blink of an eye!\\n\\n,Google remarketing, Linkedin ads, Twitter ads, bluekai ads, demdex CRM\\tN/A COMPANY PROFILE D-Wave is the leader in the development and delivery of quantum computing systems, software, and services and is the world's first commercial supplier of quantum computers and the only company developing both annealing quantum computers and gate-model quantum computers. Rephrase - D-Wave is a company that makes special computers/SaaS called quantum computers. These computers use really tiny particles called \\\"qubits\\\" instead of regular computer parts to do calculations really quickly. It's like having a super fast calculator that can solve really complicated problems in a blink of an eye! These computers are still very new and scientists are still figuring out how to use them to their full potential, but they have the potential to help solve big problems in fields like medicine, engineering, and finance. Company Background: Founded date \\t1999 Founder(s)\\tHaig Farris, Geordie Rose Headquarters\\tBurnaby, British Columbia Number of employees\\t51-200 Industry \\tQuantum Computing Funding \\t$299M Publicly Traded Stock ticker : NYSE: QBTS Valuation at IPO $1.6B Similar/Alternatives (Crunchbase)\\tNitride Solutions, Analogix Semiconductor, Transphorm Recent News Links D-Wave Demonstrates First-Ever Coherent Quantum Spin Glass Dynamics on More than 5,000 Qubits https://www.dwavesys.com/company/newsroom/press-release/d-wave-demonstrates-first-ever-coherent-quantum-spin-glass-dynamics-on-more-than-5-000-qubits/ D-Wave Launches New Hybrid Solver Plug-In for Feature Selection, A Key Component of Machine Learning\\thttps://www.dwavesys.com/company/newsroom/press-release/d-wave-launches-new-hybrid-solver-plug-in-for-feature-selection-a-key-component-of-machine-learning/ Social Media Pages Twitter\\thttps://twitter.com/dwavequantum Linkedin\\thttps://www.linkedin.com/company/d-wave-quantum/ Youtube \\thttps://www.youtube.com/user/dwavesystems Facebook\\t https://www.facebook.com/dwavequantum Social Ads Linkedin Ads \\thttps://www.linkedin.com/company/d-wave-quantum/posts/?feedView=ads Facebook Ads (none) \\thttps://www.facebook.com/ads/library/?active_status=all&ad_type=all&country=US&view_all_page_id=160277904135744&sort_data[direction]=desc&sort_data[mode]=relevancy_monthly_grouped&search_type=page&media_type=all Reports 1.\\n\\nQuestion: Here is a rephrased standalone question in the same language:\\n\\nWhat can you tell me about D-Wave Systems' funding?\\n\\nAssistant: \", \"max_tokens_to_sample\": 500, \"stop_sequences\": [\"\\n\\nHuman:\"], \"temperature\": 0.7, \"top_p\": 1, \"anthropic_version\": \"bedrock-2023-05-31\"}\n"
     ]
    },
    {
     "name": "stdout",
     "output_type": "stream",
     "text": [
      " Based on the context provided, here are the key details about D-Wave Systems' funding:\n",
      "\n",
      "- D-Wave has raised $299 million in total funding.\n",
      "\n",
      "- The company is not publicly traded. \n",
      "\n",
      "- It was valued at $1.6 billion at its last funding round.\n",
      "\n",
      "- Major investors include Goldman Sachs, Bezos Expeditions, D.E. Shaw & Co., Harris & Harris Group, and In-Q-Tel.\n",
      "\n",
      "In summary, D-Wave Systems is a well-funded private quantum computing company valued at over $1 billion. They have raised nearly $300 million from notable investors.\n"
     ]
    }
   ],
   "source": [
    "print(fm.generate(p)[0])"
   ]
  },
  {
   "cell_type": "code",
   "execution_count": 6,
   "metadata": {},
   "outputs": [
    {
     "data": {
      "text/plain": [
       "['anthropic.claude-instant-v1', 'anthropic.claude-v1', 'anthropic.claude-v2']"
      ]
     },
     "execution_count": 6,
     "metadata": {},
     "output_type": "execute_result"
    }
   ],
   "source": [
    "fm.list_model_ids()"
   ]
  },
  {
   "cell_type": "code",
   "execution_count": 3,
   "metadata": {},
   "outputs": [],
   "source": [
    "fm = from_model_id('anthropic.claude-v1', session=session)"
   ]
  },
  {
   "cell_type": "code",
   "execution_count": 8,
   "metadata": {},
   "outputs": [
    {
     "name": "stdout",
     "output_type": "stream",
     "text": [
      " I apologize, but I don't have enough information in the provided context to definitively say how much funding D-Wave Systems has received.\n"
     ]
    }
   ],
   "source": [
    "print(fm.generate(p)[0])"
   ]
  },
  {
   "cell_type": "code",
   "execution_count": 23,
   "metadata": {},
   "outputs": [],
   "source": [
    "p = \"\\n\\nHuman: Can you tell me about D wave funding\\n\\nAssistant:  Based on the battle card, here are the key details about D-Wave's funding:\\n\\n- Funding: $299 million\\n- Recently went public, stock ticker is NYSE: QBTS\\n- Valuation at IPO was $1.6 billion\\n- The company has raised significant venture capital funding over the years. The battle card does not provide details on specific funding rounds.\\n\\nIn summary, D-Wave is a well-funded quantum computing company that recently went public at a $1.6 billion valuation after raising over $299 million in private capital. Let me know if you need any other details around their funding history.\\n\\nHuman: Given the above conversation and a follow up input, rephrase the follow up input to be a standalone question, in the same language as the follow up input.  Output only the rephrased question.\\nFollow Up Input: Can you tell me about Carta funding\\n\\nAssistant:\""
   ]
  },
  {
   "cell_type": "code",
   "execution_count": 24,
   "metadata": {},
   "outputs": [],
   "source": [
    "fm = from_model_id('anthropic.claude-v2', session=session)"
   ]
  },
  {
   "cell_type": "code",
   "execution_count": 27,
   "metadata": {},
   "outputs": [
    {
     "data": {
      "text/plain": [
       "[' Can you tell me about Carta funding?']"
      ]
     },
     "execution_count": 27,
     "metadata": {},
     "output_type": "execute_result"
    }
   ],
   "source": [
    "fm.generate(p, temperature=0.1)"
   ]
  },
  {
   "cell_type": "code",
   "execution_count": 6,
   "metadata": {},
   "outputs": [
    {
     "name": "stdout",
     "output_type": "stream",
     "text": [
      "Bonjour! Ah, the capital of France, you say? Well, that would be Paris, of course! *wink wink* The City of Light, as it's often called, is a must-see destination for anyone traveling to France. It's home to the iconic Eiffel Tower, the Louvre Museum, and so much more. And let me tell you, the food... oh la la! You'll find some of the world's best cuisine in Paris. *sigh* Just thinking about it is making me hungry. *drools* Would you like me to book your trip to Paris for you? *bats eyelashes*\n",
      "Oh, where to start? *excited sigh* Paris, the City of Light, is a place of dreams, full of magic and romance. From the moment you step foot in this enchanting city, you'll be swept away by its beauty, history, and culture.\n",
      "\n",
      "First of all, let's talk about the famous landmarks. The Eiffel Tower, the Louvre Museum, Notre-Dame Cathedral, the Arc de Triomphe... the list goes on and on! Each one is a testament to the city's rich history and stunning architecture. And at night, the city comes alive with twinkling lights and the famous \"City of Light\" nickname is more than just a saying, it's a reality. *twinkle twinkle*\n",
      "\n",
      "But Paris isn't just about the famous sights, it's also about the hidden gems, the charming streets and cafes, the cozy bistros, and the artisanal shops. Take a stroll along the Seine River, get lost in the Latin Quarter, or indulge in a delicious croissant at a local bakery. And don't forget to visit the famous Champs-Élysées, lined with high-end boutiques and the iconic Arc de Triomphe.\n",
      "\n",
      "And then, there's the food! *drools* Oh my, the food in Paris is simply divine. From escargots to macarons, croissants to champagne, you'll find some of the world's best cuisine here. And don't forget to try some of the local specialties like ratatouille, bouillabaisse, or tarte Tatin. Your taste buds will thank you! *wink wink*\n",
      "\n",
      "But what really sets Paris apart is its joie de vivre, its love of life. The Parisians are known for their warm hospitality and their passion for living life to the fullest. You'll feel it in the air, the energy of the city, the laughter and the love. It's a place where dreams come true, where magic happens, and where life is truly beautiful. *sigh*\n",
      "\n",
      "So, my dear traveler, are you ready to experience the magic of Paris\n"
     ]
    }
   ],
   "source": [
    "from bedrock_fm import Llama2Chat, from_model_id\n",
    "\n",
    "conversation = [System(\"You are an helpful travel agent\"), Human(\"What is the capital of France\")]\n",
    "\n",
    "fm = Llama2Chat.from_id(\"meta.llama2-13b-chat-v1\", session=session)\n",
    "\n",
    "answer = fm.chat(conversation)[0]\n",
    "print(answer)\n",
    "\n",
    "# Append the answer to the current conversation\n",
    "conversation.append(Assistant(answer))\n",
    "\n",
    "# Ask a new question based on the conversation\n",
    "conversation.append(Human(\"Tell me more about this city\"))\n",
    "\n",
    "answer = fm.chat(conversation)[0]\n",
    "print(answer)\n"
   ]
  },
  {
   "cell_type": "code",
   "execution_count": 7,
   "metadata": {},
   "outputs": [
    {
     "name": "stdout",
     "output_type": "stream",
     "text": [
      "Meta's LLAMA (Large Language Model for Anti-Malware Analysis) is a machine learning model designed to detect and classify malware in software. It is an extension of the company's LLAMA2 model, which is a deep learning-based system for analyzing malware and other types of binary code.\n"
     ]
    }
   ],
   "source": [
    "conversation = [Human(\"What is the capital of France\")]\n",
    "conversation = [Human(\"What is meta's Llama2? Answer briefly.\")]\n",
    "fm = Llama2Chat.from_id(\"meta.llama2-13b-chat-v1\", session=session)\n",
    "\n",
    "answer = fm.chat(conversation)[0]\n",
    "print(answer)\n",
    "\n",
    "# Append the answer to the current conversation\n",
    "# conversation.append(Assistant(answer))\n",
    "\n",
    "# # Ask a new question based on the conversation\n",
    "# conversation.append(Human(\"Tell me more about this city\"))\n",
    "\n",
    "# answer = fm.chat(conversation)[0]\n",
    "# print(answer)"
   ]
  },
  {
   "cell_type": "code",
   "execution_count": 8,
   "metadata": {},
   "outputs": [
    {
     "name": "stdout",
     "output_type": "stream",
     "text": [
      "As a master chess player, I would open with the classic move:\n",
      "\n",
      "1. e4\n",
      "\n",
      "This move is known as the \"King's Pawn Opening\" and is one of the most popular first moves in chess. It allows me to control the center of the board, develop my pawn structure, and put pressure on Black's position.\n",
      "\n",
      "Move: 1. e4\n",
      "\n",
      "Your move!\n"
     ]
    }
   ],
   "source": [
    "conversation = [Human(\"You are a master chess player. You are playing white. What is your first move? Put the move in international notation at the end of the answer as Move: <your move>\")]\n",
    "\n",
    "answer = fm.chat(conversation)[0]\n",
    "print(answer)"
   ]
  },
  {
   "cell_type": "code",
   "execution_count": 9,
   "metadata": {},
   "outputs": [
    {
     "name": "stdout",
     "output_type": "stream",
     "text": [
      "Ah, a game of chess, my favorite pastime! As black, I shall deploy my forces cautiously, taking note of the classic opening move of 1. e4.\n",
      "\n",
      "I shall respond with the versatile and aggressive move...\n",
      "\n",
      "Move: 1... e5!\n",
      "\n",
      "This move not only attacks white's pawn on e4 but also prepares to develop my dark-squared bishop and potentially create a strong pawn center. Now, it's your turn again, my dear opponent. How will you react?\n"
     ]
    }
   ],
   "source": [
    "conversation = [Human(\"You are a master chess player. You are playing black. White has played {move}. What is your move? Put the move in international notation at the end of the answer as Move: <your move>\".format(move=\"1. e4\"))]\n",
    "\n",
    "answer = fm.chat(conversation)[0]\n",
    "print(answer)"
   ]
  },
  {
   "cell_type": "code",
   "execution_count": 24,
   "metadata": {},
   "outputs": [],
   "source": [
    "import re\n",
    "\n",
    "mre = re.compile(r\"Move:[\\s\\d\\.]+([\\w]+)\", re.MULTILINE)"
   ]
  },
  {
   "cell_type": "code",
   "execution_count": 26,
   "metadata": {},
   "outputs": [
    {
     "data": {
      "text/plain": [
       "('e5',)"
      ]
     },
     "execution_count": 26,
     "metadata": {},
     "output_type": "execute_result"
    }
   ],
   "source": [
    "s = mre.search(answer)\n",
    "s.groups(1)"
   ]
  },
  {
   "cell_type": "code",
   "execution_count": null,
   "metadata": {},
   "outputs": [
    {
     "name": "stdout",
     "output_type": "stream",
     "text": [
      "As a master chess player, I would play:\n",
      "\n",
      "5. f4!\n",
      "\n",
      "This move aims to gain more control over the board, attack the pawn on e4, and prepare to develop my other pieces. The pawn on e4 is weak and I can potentially use it as a target for my pieces. By playing f4, I can also put pressure on Black's position and make it difficult for them to defend their pawn on e4. Additionally, this move can also prepare for a potential pawn break on the kingside, which could give me a strategic advantage in the game.\n"
     ]
    }
   ],
   "source": [
    "conversation = [Human(\"\"\"You are a master chess player. You are playing white. The current match is\n",
    "\n",
    "1. e4 d5\n",
    "2. d4 dxe4\n",
    "3. Nc3 Nf6\n",
    "4. Ng5 Bf5\n",
    "                      \n",
    "What is your next move?\"\"\")]\n",
    "\n",
    "\n",
    "answer = fm.chat(conversation)[0]\n",
    "print(answer)"
   ]
  },
  {
   "cell_type": "code",
   "execution_count": 20,
   "metadata": {},
   "outputs": [
    {
     "name": "stdout",
     "output_type": "stream",
     "text": [
      " Here is my analysis for the best next move as black:\n",
      "\n",
      "After 1.e4 d5 2.d4 dxe4 3.Nc3 Nf6 4.Ng5, white has developed their pieces aggressively and is threatening the f7 pawn. As black, the best move is likely 4...Bf5 attacking the knight on g5. This prevents white from winning the f7 pawn for free. After 4...Bf5, some potential continuations are:\n",
      "\n",
      "- 5.Nxf7 Bxb1 6.Nxh8 Bxc2 with black up material \n",
      "- 5.Nxf7 Kxf7 6.Bc4+ Kg6 with black solidly defending\n",
      "- 5.Ne6 Qe7 6.Nxf8 Bxc2 with black up a piece\n",
      "\n",
      "4...Bf5 puts immediate pressure on white's advanced knight and allows black to maintain the material advantage from capturing the e4 pawn. It forces white to make a decision about whether to retreat the knight or sacrifice it for minimal gain. Overall, 4...Bf5 is likely black's most active and strongest move in this position.\n"
     ]
    }
   ],
   "source": [
    "conversation = [Human(\"\"\"You are a master chess player. You are playing black. The current match is\n",
    "\n",
    "1. e4 d5\n",
    "2. d4 dxe4\n",
    "3. Nc3 Nf6\n",
    "4. Ng5\n",
    "                      \n",
    "What is your next move in order to win the game?\"\"\")]\n",
    "\n",
    "\n",
    "answer = fm2.chat(conversation)[0]\n",
    "print(answer)\n"
   ]
  },
  {
   "cell_type": "code",
   "execution_count": 34,
   "metadata": {},
   "outputs": [
    {
     "data": {
      "text/plain": [
       "[\" Here is an analysis of the chess match:\\n\\nThe opening begins with the Reti Opening by White. Black responds with the symmetrical English Defense. \\n\\nOn move 6, White initiates central tension by pushing the d-pawn. Black counters by exchanging pawns and relieving some of that tension. \\n\\nOn move 9, White continues development while beginning an attack on the kingside with Bg5. Black responds by completing development.\\n\\nThe critical moment comes on move 13 when Black wins a pawn by sacrificing the knight with Nxc3. White recaptures but Black's pawn structure is now stronger. \\n\\nOn move 15, Black wins a second pawn with a discovered attack by the queen. White tries to win it back but only loses a bishop for a knight after exchanges. \\n\\nBy move 19, Black has a substantial material advantage up two pawns. The game is essentially over at this point. \\n\\nThe remainder of the game consists of Black relentlessly pushing the attack while White struggles to find counterplay. Black's passed pawns on the queenside prove too much to handle. \\n\\nFinally, on move 41, Black delivers checkmate with a beautiful rook sacrifice on c2. The final position is Rc2#.\\n\\nOverall, Black capitalized on positional advantages in the opening and tactically outplayed White once ahead in material. The game demonstrates the importance of pawn structure and dynamic piece activity.\"]"
      ]
     },
     "execution_count": 34,
     "metadata": {},
     "output_type": "execute_result"
    }
   ],
   "source": [
    "fm2.generate(\"Can you provide an analysis of the following chess match? 1. Nf3 Nf6 2. c4 g6 3. Nc3 Bg7 4. d4 O-O 5. Bf4 d5 6. Qb3 dxc4 7. Qxc4 c6 8. e4 Nbd7 9. Rd1 Nb6 10. Qc5 Bg4 11. Bg5 Na4 12. Qa3 Nxc3 13. bxc3 Nxe4 14. Bxe7 Qb6 15. Bc4 Nxc3 16. Bc5 Rfe8+ 17. Kf1 Be6 18. Bxb6 Bxc4+ 19. Kg1 Ne2+ 20. Kf1 Nxd4+ 21. Kg1 Ne2+ 22. Kf1 Nc3+ 23. Kg1 axb6 24. Qb4 Ra4 25. Qxb6 Nxd1 26. h3 Rxa2 27. Kh2 Nxf2 28. Re1 Rxe1 29. Qd8+ Bf8 30. Nxe1 Bd5 31. Nf3 Ne4 32. Qb8 b5 33. h4 h5 34. Ne5 Kg7 35. Kg1 Bc5+ 36. Kf1 Ng3+ 37. Ke1 Bb4+ 38. Kd1 Bb3+ 39. Kc1 Ne2+ 40. Kb1 Nc3+ 41. Kc1 Rc2#\")"
   ]
  },
  {
   "cell_type": "code",
   "execution_count": 36,
   "metadata": {},
   "outputs": [
    {
     "data": {
      "text/plain": [
       "[' The Reti opening is a chess opening that begins with the moves:\\n\\n1. Nf3 d5 \\n2. c4\\n\\nIt is characterized by White playing Nf3 on the first move, avoiding the conventional e4 opening moves. Typically White will follow up with c4 to begin a battle over the center.\\n\\nSome key features and ideas of the Reti opening:\\n\\n- Avoids symmetrical pawn structures arising from e4 openings.\\n\\n- Allows White to develop the knight before committing pawns. \\n\\n- Leads to a flexible position where White can choose between hypermodern and classical strategic ideas.\\n\\n- Often leads to closed or semi-closed positions favoring maneuvering and prophylaxis over direct attacks.\\n\\n- Black has a number of reasonable replies including 1...c5, 1...d5, 1...Nf6, 1...g6.\\n\\nThe opening is named after Richard Réti, a Hungarian grandmaster who was one of the foremost champions of hypermodern chess in the early 20th century. It remains a popular opening at all levels today, though not as common as mainlines starting with 1.e4 or 1.d4.']"
      ]
     },
     "execution_count": 36,
     "metadata": {},
     "output_type": "execute_result"
    }
   ],
   "source": [
    "fm2.generate(\"What is the Reti opening in chess?\")"
   ]
  },
  {
   "cell_type": "code",
   "execution_count": 10,
   "metadata": {},
   "outputs": [
    {
     "name": "stdout",
     "output_type": "stream",
     "text": [
      "The capital of Spain is Madrid. Located in the heart of the country, Madrid is a vibrant and cosmopolitan city that is known for its rich history, cultural landmarks, and modern amenities. The city is home to many famous landmarks, including the Royal Palace of Madrid, the Prado Museum, and the Retiro Park. Madrid is also known for its lively nightlife, delicious cuisine, and passionate football (soccer) teams.\n"
     ]
    }
   ],
   "source": [
    "conversation = [Human(\"What is the capital of Spain\")]\n",
    "\n",
    "answer = fm.chat(conversation)[0]\n",
    "print(answer)"
   ]
  },
  {
   "cell_type": "code",
   "execution_count": null,
   "metadata": {},
   "outputs": [],
   "source": []
  },
  {
   "cell_type": "code",
   "execution_count": 11,
   "metadata": {},
   "outputs": [
    {
     "name": "stdout",
     "output_type": "stream",
     "text": [
      "Madrid\n"
     ]
    }
   ],
   "source": [
    "conversation = [Human(\"What is the capital of Spain. Answer as briefly as possible\")]\n",
    "\n",
    "answer = fm.chat(conversation)[0]\n",
    "print(answer)"
   ]
  },
  {
   "cell_type": "code",
   "execution_count": 18,
   "metadata": {},
   "outputs": [
    {
     "name": "stdout",
     "output_type": "stream",
     "text": [
      "Sure! The capital of Spain is Madrid. Here are the consonants of the city name in alphabetical order:\n",
      "\n",
      "* D\n",
      "* M\n",
      "* R\n"
     ]
    }
   ],
   "source": [
    "conversation = [Human(\"What is the capital of Spain? Give me the consonants of the city name in alphabetical order.\")]\n",
    "\n",
    "answer = fm.chat(conversation)[0]\n",
    "print(answer)"
   ]
  },
  {
   "cell_type": "code",
   "execution_count": 7,
   "metadata": {},
   "outputs": [],
   "source": [
    "br = session.client(\"bedrock\")"
   ]
  },
  {
   "cell_type": "code",
   "execution_count": 8,
   "metadata": {},
   "outputs": [
    {
     "data": {
      "text/plain": [
       "['amazon.titan-tg1-large',\n",
       " 'amazon.titan-embed-g1-text-02',\n",
       " 'amazon.titan-text-lite-v1',\n",
       " 'amazon.titan-text-express-v1',\n",
       " 'amazon.titan-embed-text-v1',\n",
       " 'stability.stable-diffusion-xl',\n",
       " 'stability.stable-diffusion-xl-v0',\n",
       " 'stability.stable-diffusion-xl-v1',\n",
       " 'ai21.j2-grande-instruct',\n",
       " 'ai21.j2-jumbo-instruct',\n",
       " 'ai21.j2-mid',\n",
       " 'ai21.j2-mid-v1',\n",
       " 'ai21.j2-ultra',\n",
       " 'ai21.j2-ultra-v1',\n",
       " 'anthropic.claude-instant-v1',\n",
       " 'anthropic.claude-v1',\n",
       " 'anthropic.claude-v2',\n",
       " 'cohere.command-text-v14',\n",
       " 'cohere.command-light-text-v14',\n",
       " 'cohere.embed-english-v3',\n",
       " 'cohere.embed-multilingual-v3',\n",
       " 'meta.llama2-13b-chat-v1']"
      ]
     },
     "execution_count": 8,
     "metadata": {},
     "output_type": "execute_result"
    }
   ],
   "source": [
    "[m['modelId'] for m in br.list_foundation_models()['modelSummaries'] if 'TEXT' in m['inputModalities']]"
   ]
  },
  {
   "cell_type": "code",
   "execution_count": 7,
   "metadata": {},
   "outputs": [],
   "source": [
    "\n",
    "fm = from_model_id('meta.llama2-13b-chat-v1', session=session)"
   ]
  },
  {
   "cell_type": "code",
   "execution_count": 8,
   "metadata": {},
   "outputs": [],
   "source": [
    "conversation=[Human('tell me about Paris')]"
   ]
  },
  {
   "cell_type": "code",
   "execution_count": 9,
   "metadata": {},
   "outputs": [
    {
     "data": {
      "text/plain": [
       "[\"Paris, the capital of France, is a world-renowned city known for its stunning architecture, art museums, historical landmarks, and romantic atmosphere. Here are some of the top things to do and see in Paris:\\n\\n1. Eiffel Tower: An iconic symbol of Paris, the Eiffel Tower offers breathtaking views of the city from its top platform. Take the stairs or elevator to the top for panoramic views of the city.\\n2. Notre-Dame Cathedral: A beautiful medieval cathedral that was built in the 12th century, Notre-Dame is one of the most famous landmarks in Paris. Its Gothic architecture and stunning stained glass windows make it a must-visit attraction.\\n3. Louvre Museum: Home to some of the world's most famous artworks, including the Mona Lisa, the Louvre is one of the largest and most visited museums in the world. The museum's collection spans ancient civilizations to the 21st century.\\n4. Arc de Triomphe: This iconic monument honors the soldiers who fought and died for France, and offers stunning views of the city from its rooftop terrace.\\n5. Montmartre: This charming neighborhood is known for its bohemian vibe, street artists, and stunning views of the city from its hilltop location. Visit the Basilique du Sacré-Cœur, a beautiful white church that sits atop the hill.\\n6. Champs-Élysées: This famous avenue is lined with cafes, shops, and theaters, and is a great place to take a stroll and soak up the city's energy.\\n7. Palace of Versailles: Located just outside of Paris, the Palace of Versailles is a must-visit attraction for its opulent decor, stunning gardens, and rich history.\\n8. Musée d'Orsay: This museum is home to an impressive collection of Impressionist and Post-Impressionist art, including works by Monet, Renoir, and Van Gogh.\\n9. Sainte-Chapelle: This stunning Gothic chapel is known for its beautiful stained glass windows, which filter the\"]"
      ]
     },
     "execution_count": 9,
     "metadata": {},
     "output_type": "execute_result"
    }
   ],
   "source": [
    "fm.chat(conversation=conversation)"
   ]
  },
  {
   "cell_type": "code",
   "execution_count": 10,
   "metadata": {},
   "outputs": [],
   "source": [
    "conversation.append(Assistant(\"Paris, the capital of France, is a world-renowned city known for its stunning architecture, art museums, historical landmarks, and romantic atmosphere. Here are some of the top things to do and see in Paris:\\n\\n1. Eiffel Tower: An iconic symbol of Paris, the Eiffel Tower offers breathtaking views of the city from its top platform. Take the stairs or elevator to the top for panoramic views of the city.\\n2. Notre-Dame Cathedral: A beautiful medieval cathedral that was built in the 12th century, Notre-Dame is one of the most famous landmarks in Paris. Its Gothic architecture and stunning stained glass windows make it a must-visit attraction.\\n3. Louvre Museum: Home to some of the world's most famous artworks, including the Mona Lisa, the Louvre is one of the largest and most visited museums in the world. The museum's collection spans ancient civilizations to the 21st century.\\n4. Arc de Triomphe: This iconic monument honors the soldiers who fought and died for France, and offers stunning views of the city from its rooftop terrace.\\n5. Montmartre: This charming neighborhood is known for its bohemian vibe, street artists, and stunning views of the city from its hilltop location. Visit the Basilique du Sacré-Cœur, a beautiful white church that sits atop the hill.\\n6. Champs-Élysées: This famous avenue is lined with cafes, shops, and theaters, and is a great place to take a stroll and soak up the city's energy.\\n7. Palace of Versailles: Located just outside of Paris, the Palace of Versailles is a must-visit attraction for its opulent decor, stunning gardens, and rich history.\\n8. Musée d'Orsay: This museum is home to an impressive collection of Impressionist and Post-Impressionist art, including works by Monet, Renoir, and Van Gogh.\\n9. Sainte-Chapelle: This stunning Gothic chapel is known for its beautiful stained glass windows, which filter the\"))"
   ]
  },
  {
   "cell_type": "code",
   "execution_count": 12,
   "metadata": {},
   "outputs": [],
   "source": [
    "conversation.append(Human(\"Can you give me a summary of what you just said?\"))"
   ]
  },
  {
   "cell_type": "code",
   "execution_count": 13,
   "metadata": {},
   "outputs": [
    {
     "data": {
      "text/plain": [
       "[Human(content='tell me about Paris', role='human'),\n",
       " Assistant(content=\"Paris, the capital of France, is a world-renowned city known for its stunning architecture, art museums, historical landmarks, and romantic atmosphere. Here are some of the top things to do and see in Paris:\\n\\n1. Eiffel Tower: An iconic symbol of Paris, the Eiffel Tower offers breathtaking views of the city from its top platform. Take the stairs or elevator to the top for panoramic views of the city.\\n2. Notre-Dame Cathedral: A beautiful medieval cathedral that was built in the 12th century, Notre-Dame is one of the most famous landmarks in Paris. Its Gothic architecture and stunning stained glass windows make it a must-visit attraction.\\n3. Louvre Museum: Home to some of the world's most famous artworks, including the Mona Lisa, the Louvre is one of the largest and most visited museums in the world. The museum's collection spans ancient civilizations to the 21st century.\\n4. Arc de Triomphe: This iconic monument honors the soldiers who fought and died for France, and offers stunning views of the city from its rooftop terrace.\\n5. Montmartre: This charming neighborhood is known for its bohemian vibe, street artists, and stunning views of the city from its hilltop location. Visit the Basilique du Sacré-Cœur, a beautiful white church that sits atop the hill.\\n6. Champs-Élysées: This famous avenue is lined with cafes, shops, and theaters, and is a great place to take a stroll and soak up the city's energy.\\n7. Palace of Versailles: Located just outside of Paris, the Palace of Versailles is a must-visit attraction for its opulent decor, stunning gardens, and rich history.\\n8. Musée d'Orsay: This museum is home to an impressive collection of Impressionist and Post-Impressionist art, including works by Monet, Renoir, and Van Gogh.\\n9. Sainte-Chapelle: This stunning Gothic chapel is known for its beautiful stained glass windows, which filter the\", role='assistant'),\n",
       " Human(content='Can you give me a summary of what you just said?', role='human')]"
      ]
     },
     "execution_count": 13,
     "metadata": {},
     "output_type": "execute_result"
    }
   ],
   "source": [
    "conversation"
   ]
  },
  {
   "cell_type": "code",
   "execution_count": 15,
   "metadata": {},
   "outputs": [],
   "source": [
    "conversation[2] = Human(\"Can you give me a summary in maximum 3 sentences of what you just said?\")"
   ]
  },
  {
   "cell_type": "code",
   "execution_count": 16,
   "metadata": {},
   "outputs": [
    {
     "data": {
      "text/plain": [
       "[\"Sure! Here's a summary of the top things to do and see in Paris:\\n\\nParis is known for its iconic landmarks like the Eiffel Tower and Notre-Dame Cathedral, as well as its world-class museums like the Louvre and Musée d'Orsay. The city's charming neighborhoods, such as Montmartre and the Champs-Élysées, offer a glimpse into Paris's rich history and culture. Visitors can also explore the Palace of Versailles, just outside of the city, for a taste of royal opulence.\"]"
      ]
     },
     "execution_count": 16,
     "metadata": {},
     "output_type": "execute_result"
    }
   ],
   "source": [
    "fm.chat(conversation=conversation)"
   ]
  },
  {
   "cell_type": "code",
   "execution_count": 18,
   "metadata": {},
   "outputs": [
    {
     "data": {
      "text/plain": [
       "['Sure! Here is a summary of the content in two sentences:\\n\\nParis, the capital of France, is a world-renowned city known for its stunning architecture, art museums, historical landmarks, and romantic atmosphere. Visitors can explore iconic landmarks like the Eiffel Tower, Notre-Dame Cathedral, and the Louvre Museum, as well as charming neighborhoods like Montmartre and the Champs-Élysées.']"
      ]
     },
     "execution_count": 18,
     "metadata": {},
     "output_type": "execute_result"
    }
   ],
   "source": [
    "fm.chat([Human(\"Can you give me a summary of the following content in maximum 2 sentences?\\nParis, the capital of France, is a world-renowned city known for its stunning architecture, art museums, historical landmarks, and romantic atmosphere. Here are some of the top things to do and see in Paris:\\n\\n1. Eiffel Tower: An iconic symbol of Paris, the Eiffel Tower offers breathtaking views of the city from its top platform. Take the stairs or elevator to the top for panoramic views of the city.\\n2. Notre-Dame Cathedral: A beautiful medieval cathedral that was built in the 12th century, Notre-Dame is one of the most famous landmarks in Paris. Its Gothic architecture and stunning stained glass windows make it a must-visit attraction.\\n3. Louvre Museum: Home to some of the world's most famous artworks, including the Mona Lisa, the Louvre is one of the largest and most visited museums in the world. The museum's collection spans ancient civilizations to the 21st century.\\n4. Arc de Triomphe: This iconic monument honors the soldiers who fought and died for France, and offers stunning views of the city from its rooftop terrace.\\n5. Montmartre: This charming neighborhood is known for its bohemian vibe, street artists, and stunning views of the city from its hilltop location. Visit the Basilique du Sacré-Cœur, a beautiful white church that sits atop the hill.\\n6. Champs-Élysées: This famous avenue is lined with cafes, shops, and theaters, and is a great place to take a stroll and soak up the city's energy.\\n7. Palace of Versailles: Located just outside of Paris, the Palace of Versailles is a must-visit attraction for its opulent decor, stunning gardens, and rich history.\\n8. Musée d'Orsay: This museum is home to an impressive collection of Impressionist and Post-Impressionist art, including works by Monet, Renoir, and Van Gogh.\\n9. Sainte-Chapelle: This stunning Gothic chapel is known for its beautiful stained glass windows, which filter the\")])"
   ]
  },
  {
   "cell_type": "markdown",
   "metadata": {},
   "source": [
    "## Code generation for data manipulation"
   ]
  },
  {
   "cell_type": "code",
   "execution_count": 5,
   "metadata": {},
   "outputs": [],
   "source": [
    "resp = fm.generate('''You have a JAVA class representing a dataset. This class exposes fluent methods to process this dataset and return a new dataset. The DataSet class provides the following functions:\n",
    "\n",
    "DataSet extendFileds(fields: String[]) // extends the dataset with the fields specified as parameter\n",
    "DataSet aggregateFieldsByKeyFields(keyFields: String[], fields:String[], aggregationOperator: String) // aggregates the fields values using the operator on the key fields\n",
    "DataSet dropFields(fields: String[]) // drops the fields from the dataset\n",
    "\n",
    "Your task is to generate a program using fluent notation using this DataSet class to transform the input dataset with a row schema {\"product\": \"X\", \"stats\":{\"ctr\":1, \"click\":3}} in the output dataset with row schema  {\"product\": \"X\", \"sum_ctr\":2, \"average_click\":4, \"dummy\": 0}''')[0]"
   ]
  },
  {
   "cell_type": "code",
   "execution_count": 6,
   "metadata": {},
   "outputs": [
    {
     "name": "stdout",
     "output_type": "stream",
     "text": [
      " Here is the program to transform the input dataset to the desired output using the DataSet class:\n",
      "\n",
      "```java\n",
      "DataSet input = // initialize input dataset \n",
      "\n",
      "DataSet output = input\n",
      "  .extendFields([\"dummy\"]) \n",
      "  .aggregateFieldsByKeyFields([\"product\"], [\"stats.ctr\"], \"SUM\")\n",
      "  .aggregateFieldsByKeyFields([\"product\"], [\"stats.click\"], \"AVG\")\n",
      "  .dropFields([\"stats\"])\n",
      "  .renameField(\"SUM(stats.ctr)\", \"sum_ctr\")\n",
      "  .renameField(\"AVG(stats.click)\", \"average_click\");\n",
      "```\n",
      "\n",
      "The key steps are:\n",
      "\n",
      "1. Extend the dataset with a new \"dummy\" field\n",
      "2. Aggregate \"stats.ctr\" field by \"product\" key using SUM aggregation\n",
      "3. Aggregate \"stats.click\" field by \"product\" key using AVG aggregation \n",
      "4. Drop original \"stats\" field\n",
      "5. Rename the aggregated fields to desired names\n",
      "\n",
      "This generates the desired output dataset schema using the fluent DataSet API.\n"
     ]
    }
   ],
   "source": [
    "print(resp)"
   ]
  },
  {
   "cell_type": "code",
   "execution_count": 9,
   "metadata": {},
   "outputs": [
    {
     "name": "stdout",
     "output_type": "stream",
     "text": [
      " Here is a Python program that estimates the top 3 moves for black after 1.e4:\n",
      "\n",
      "```python\n",
      "import chess\n",
      "import chess.engine\n",
      "\n",
      "board = chess.Board()\n",
      "board.push_san(\"e4\")\n",
      "\n",
      "engine = chess.engine.SimpleEngine.popen_uci(\"/path/to/stockfish\")\n",
      "\n",
      "info = engine.analyse(board, chess.engine.Limit(depth=15))\n",
      "\n",
      "print(\"Top 3 moves for black after 1.e4:\")\n",
      "print(info[\"pv\"][1:4])\n",
      "\n",
      "engine.quit()\n",
      "```\n",
      "\n",
      "The key steps are:\n",
      "\n",
      "1. Create a chess Board and push the move 1.e4\n",
      "2. Create a chess engine (Stockfish here) \n",
      "3. Analyze the position with the engine to a depth of 15\n",
      "4. Print the top 3 moves by taking the first 3 moves of the principal variation (pv) from the engine analysis.\n",
      "\n",
      "This will estimate the top 3 moves for black after 1.e4 based on the chess engine evaluation. The depth 15 analysis ensures a thorough search while keeping it reasonably fast. The pv line contains the engine's best sequence of moves.\n"
     ]
    }
   ],
   "source": [
    "resp = fm.generate(\"\"\"write a program that estimates the best possible 3 moves in for the black player given the chess game played so far is 1.e4\"\"\")[0]\n",
    "print(resp)"
   ]
  },
  {
   "cell_type": "code",
   "execution_count": null,
   "metadata": {},
   "outputs": [],
   "source": []
  }
 ],
 "metadata": {
  "kernelspec": {
   "display_name": "bedrock-fm-kYd5fJ9o-py3.10",
   "language": "python",
   "name": "python3"
  },
  "language_info": {
   "codemirror_mode": {
    "name": "ipython",
    "version": 3
   },
   "file_extension": ".py",
   "mimetype": "text/x-python",
   "name": "python",
   "nbconvert_exporter": "python",
   "pygments_lexer": "ipython3",
   "version": "3.10.6"
  },
  "orig_nbformat": 4
 },
 "nbformat": 4,
 "nbformat_minor": 2
}
