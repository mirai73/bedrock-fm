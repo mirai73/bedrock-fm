{
 "cells": [
  {
   "cell_type": "code",
   "execution_count": 1,
   "metadata": {},
   "outputs": [],
   "source": [
    "import sys\n",
    "sys.path.append('..')\n",
    "from bedrock_fm import Claude, Command, Llama2Chat, from_model_id, Model\n",
    "from bedrock_fm.bedrock import Assistant, Human, System\n",
    "import boto3\n",
    "import logging\n",
    "\n",
    "#logging.basicConfig(level=logging.INFO)\n",
    "\n",
    "class util:\n",
    "  reset = \"\\u001b[0m\"\n",
    "  bold = \"\\u001b[1m\"\n",
    "  underline = \"\\u001b[4m\"\n",
    "  reverse = \"\\u001b[7m\"\n",
    "\n",
    "def print_conversation(conversation):\n",
    "    for m in conversation:\n",
    "        print(f\"{util.bold}{m.role}{util.reset}: {m.content}\")"
   ]
  },
  {
   "cell_type": "code",
   "execution_count": 2,
   "metadata": {},
   "outputs": [],
   "source": [
    "sess = boto3.Session(region_name=\"us-west-2\")\n",
    "ag = sess.client(\"bedrock-agent-runtime\")"
   ]
  },
  {
   "cell_type": "code",
   "execution_count": 52,
   "metadata": {},
   "outputs": [],
   "source": [
    "resp = ag.invoke_agent(agentId=\"NWRZUEEAEW\", agentAliasId=\"TSTALIASID\", sessionId=\"127\", inputText=\"what are my claims?\")"
   ]
  },
  {
   "cell_type": "code",
   "execution_count": 53,
   "metadata": {},
   "outputs": [],
   "source": [
    "es = resp['completion']"
   ]
  },
  {
   "cell_type": "code",
   "execution_count": 54,
   "metadata": {},
   "outputs": [
    {
     "name": "stdout",
     "output_type": "stream",
     "text": [
      "Based on checking your claims records, you have 3 claims. The details are:\n",
      "\n",
      "Id: 123\n",
      "Type: Car accident\n",
      "Status: PENDING\n"
     ]
    }
   ],
   "source": [
    "for e in es:\n",
    "    print(e['chunk']['bytes'].decode('utf8'))"
   ]
  },
  {
   "cell_type": "code",
   "execution_count": 21,
   "metadata": {},
   "outputs": [],
   "source": [
    "br = sess.client(\"bedrock-agent\")"
   ]
  },
  {
   "cell_type": "code",
   "execution_count": 22,
   "metadata": {},
   "outputs": [
    {
     "data": {
      "text/plain": [
       "{'ResponseMetadata': {'RequestId': 'fc53a930-3bc3-4c5a-8865-dc715c04fa10',\n",
       "  'HTTPStatusCode': 200,\n",
       "  'HTTPHeaders': {'date': 'Fri, 22 Dec 2023 10:40:43 GMT',\n",
       "   'content-type': 'application/json',\n",
       "   'content-length': '178',\n",
       "   'connection': 'keep-alive',\n",
       "   'x-amzn-requestid': 'fc53a930-3bc3-4c5a-8865-dc715c04fa10',\n",
       "   'x-amz-apigw-id': 'QV0i1F8NPHcEY6A=',\n",
       "   'x-amzn-trace-id': 'Root=1-658567ab-3c2072654db312e7748e3884'},\n",
       "  'RetryAttempts': 0},\n",
       " 'agentSummaries': [{'agentId': 'NWRZUEEAEW',\n",
       "   'agentName': 'claims',\n",
       "   'agentStatus': 'PREPARED',\n",
       "   'description': 'returns claims for a user',\n",
       "   'updatedAt': datetime.datetime(2023, 12, 22, 10, 38, 57, 355646, tzinfo=tzutc())}]}"
      ]
     },
     "execution_count": 22,
     "metadata": {},
     "output_type": "execute_result"
    }
   ],
   "source": [
    "br.list_agents()"
   ]
  },
  {
   "cell_type": "code",
   "execution_count": 23,
   "metadata": {},
   "outputs": [
    {
     "data": {
      "text/plain": [
       "{'ResponseMetadata': {'RequestId': 'c9b5a913-2e94-441f-906b-621d8d3acb36',\n",
       "  'HTTPStatusCode': 200,\n",
       "  'HTTPHeaders': {'date': 'Fri, 22 Dec 2023 10:41:07 GMT',\n",
       "   'content-type': 'application/json',\n",
       "   'content-length': '296',\n",
       "   'connection': 'keep-alive',\n",
       "   'x-amzn-requestid': 'c9b5a913-2e94-441f-906b-621d8d3acb36',\n",
       "   'x-amz-apigw-id': 'QV0moE3hPHcEBkA=',\n",
       "   'x-amzn-trace-id': 'Root=1-658567c3-670f3dfd4f7299006ded4a96'},\n",
       "  'RetryAttempts': 0},\n",
       " 'agentAliasSummaries': [{'agentAliasId': 'TSTALIASID',\n",
       "   'agentAliasName': 'AgentTestAlias',\n",
       "   'description': 'Test Alias for Agent',\n",
       "   'routingConfiguration': [{'agentVersion': 'DRAFT'}],\n",
       "   'agentAliasStatus': 'PREPARED',\n",
       "   'createdAt': datetime.datetime(2023, 12, 22, 9, 3, 32, 445537, tzinfo=tzutc()),\n",
       "   'updatedAt': datetime.datetime(2023, 12, 22, 9, 3, 32, 445537, tzinfo=tzutc())}]}"
      ]
     },
     "execution_count": 23,
     "metadata": {},
     "output_type": "execute_result"
    }
   ],
   "source": [
    "br.list_agent_aliases(agentId='NWRZUEEAEW')"
   ]
  },
  {
   "cell_type": "code",
   "execution_count": null,
   "metadata": {},
   "outputs": [],
   "source": []
  }
 ],
 "metadata": {
  "kernelspec": {
   "display_name": "bedrock-fm-kYd5fJ9o-py3.10",
   "language": "python",
   "name": "python3"
  },
  "language_info": {
   "codemirror_mode": {
    "name": "ipython",
    "version": 3
   },
   "file_extension": ".py",
   "mimetype": "text/x-python",
   "name": "python",
   "nbconvert_exporter": "python",
   "pygments_lexer": "ipython3",
   "version": "3.10.6"
  }
 },
 "nbformat": 4,
 "nbformat_minor": 2
}
